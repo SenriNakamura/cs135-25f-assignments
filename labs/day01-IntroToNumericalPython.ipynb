{
 "cells": [
  {
   "cell_type": "markdown",
   "metadata": {},
   "source": [
    "# CS 135 day01: Intro to Numerical Python"
   ]
  },
  {
   "cell_type": "markdown",
   "metadata": {},
   "source": [
    "A Python-based version of the \"Ch 2 lab\" from James et al.'s \"Introduction to Statistical Learning\" textbook\n",
    "\n",
    "Based on original notebook: https://nbviewer.jupyter.org/github/emredjan/ISL-python/blob/master/labs/lab_02.3_introduction.ipynb\n",
    "\n",
    "# What to Do\n",
    "\n",
    "Students should run this notebook on their own, interactively modifying cells as needed to understand concepts and have hands-on practice.\n",
    "\n",
    "Try to make sure you can *predict* what a function will do. Build a mental model of NumPy array operations that will make you a better programmer and ML engineer.\n",
    "\n",
    "Ask questions like:\n",
    "\n",
    "* what should the result's output type be?\n",
    "* what should the result's *shape* be?\n",
    "* what should the result's *values* be?\n",
    "\n",
    "# Outline\n",
    "\n",
    "* [Data types](#data_types)\n",
    "* [Dimension and shape](#dimension_and_shape)\n",
    "* [Indexing](#indexing)\n",
    "* [Reshaping and newaxis](#reshaping)\n",
    "* [Elementwise multiplication](#elementwise_multiplication)\n",
    "* [Matrix multiplication](#matrix_multiplication)\n",
    "* [Reductions](#reductions)\n",
    "-- min\n",
    "-- max\n",
    "-- sum\n",
    "-- prod\n",
    "* [Random numbers and random permutations](#prng)\n",
    "* [Useful functions](#useful_functions)\n",
    "-- linspace, logspace, arange\n",
    "-- sort, argsort\n",
    "-- allclose\n",
    "\n",
    "\n",
    "# Key Takeaways\n",
    "\n",
    "* Numpy array types (`np.ndarray`) have a DIMENSION, a SHAPE, and a DATA-TYPE (dtype)\n",
    "\n",
    "* * Every time you write code, make sure you know all 3 for every array\n",
    "\n",
    "* Consider using standard notation to avoid confusion\n",
    "\n",
    "* * 1-dim arrays of size N could be named `a_N` or `b_N` instead of `a` or `b`\n",
    "\n",
    "* * 2-dim arrays of size (M,N) could be named `a_MN` instead of `a`\n",
    "\n",
    "* * With this notation, it is far more clear that `np.matmul(a_MN, b_N)` will work, but `np.matmul(a_MN.T, b_N)` will not\n",
    "\n",
    "* Broadcasting is a key concept to understand\n",
    "\n",
    "* * See https://numpy.org/doc/stable/user/basics.broadcasting.html\n",
    "\n",
    "* Always use np.array. Avoid np.matrix \n",
    "\n",
    "* * Why? Array is more flexible (can be 1-dim, 2-dim, 3-dim, 4-dim, and more!)\n",
    "\n",
    "# Further Reading\n",
    "\n",
    "* Stefan van der Walt, S. Chris Colbert, Gaël Varoquaux. The NumPy array: a structure for efficient numerical computation. Computing in Science and Engineering, Institute of Electrical and Electronics Engineers, 2011. \n",
    "<https://hal.inria.fr/inria-00564007/document>\n",
    "\n",
    "* https://realpython.com/numpy-array-programming/\n"
   ]
  },
  {
   "cell_type": "code",
   "execution_count": null,
   "metadata": {},
   "outputs": [],
   "source": [
    "# import numpy (array library)\n",
    "import numpy as np\n"
   ]
  },
  {
   "cell_type": "code",
   "execution_count": null,
   "metadata": {},
   "outputs": [],
   "source": []
  },
  {
   "cell_type": "markdown",
   "metadata": {},
   "source": [
    "# Basic array creation and manipulation\n",
    "\n",
    "We use `np.array(...)` function to create arrays"
   ]
  },
  {
   "cell_type": "code",
   "execution_count": null,
   "metadata": {},
   "outputs": [
    {
     "name": "stdout",
     "output_type": "stream",
     "text": [
      "[1.  6.  2.4]\n"
     ]
    }
   ],
   "source": [
    "x = np.array([1.0, 6.0, 2.4]);\n",
    "print(x);"
   ]
  },
  {
   "cell_type": "markdown",
   "metadata": {},
   "source": [
    "Numpy stores arrays as type `ndarray` for n-dimensional array.\n",
    "\n",
    "This type flexibly allows any shape (1-d array, 2-d array, etc.)"
   ]
  },
  {
   "cell_type": "code",
   "execution_count": null,
   "metadata": {},
   "outputs": [
    {
     "data": {
      "text/plain": [
       "numpy.ndarray"
      ]
     },
     "execution_count": null,
     "metadata": {},
     "output_type": "execute_result"
    }
   ],
   "source": [
    "type(x)"
   ]
  },
  {
   "cell_type": "code",
   "execution_count": null,
   "metadata": {},
   "outputs": [
    {
     "data": {
      "text/plain": [
       "array([3. , 8. , 4.4])"
      ]
     },
     "execution_count": null,
     "metadata": {},
     "output_type": "execute_result"
    }
   ],
   "source": [
    "x + 2 # element-wise addition"
   ]
  },
  {
   "cell_type": "code",
   "execution_count": null,
   "metadata": {},
   "outputs": [
    {
     "data": {
      "text/plain": [
       "array([ 2. , 12. ,  4.8])"
      ]
     },
     "execution_count": null,
     "metadata": {},
     "output_type": "execute_result"
    }
   ],
   "source": [
    "x * 2 # element-wise multiplication"
   ]
  },
  {
   "cell_type": "code",
   "execution_count": null,
   "metadata": {},
   "outputs": [
    {
     "data": {
      "text/plain": [
       "array([0.5, 3. , 1.2])"
      ]
     },
     "execution_count": null,
     "metadata": {},
     "output_type": "execute_result"
    }
   ],
   "source": [
    "x / 2 # element-wise division"
   ]
  },
  {
   "cell_type": "code",
   "execution_count": null,
   "metadata": {},
   "outputs": [
    {
     "data": {
      "text/plain": [
       "array([ 2. , 12. ,  4.8])"
      ]
     },
     "execution_count": null,
     "metadata": {},
     "output_type": "execute_result"
    }
   ],
   "source": [
    "x + x # operators like '+' can add two arrays of SAME size"
   ]
  },
  {
   "cell_type": "code",
   "execution_count": null,
   "metadata": {},
   "outputs": [
    {
     "data": {
      "text/plain": [
       "array([1., 1., 1.])"
      ]
     },
     "execution_count": null,
     "metadata": {},
     "output_type": "execute_result"
    }
   ],
   "source": [
    "x / x # so can operators like '/', for element-wise division"
   ]
  },
  {
   "cell_type": "markdown",
   "metadata": {},
   "source": [
    "<a id=\"data_types\"></a>"
   ]
  },
  {
   "cell_type": "markdown",
   "metadata": {},
   "source": [
    "# Data types\n",
    "\n",
    "Arrays have *data types* (or \"dtypes\")"
   ]
  },
  {
   "cell_type": "code",
   "execution_count": null,
   "metadata": {},
   "outputs": [
    {
     "name": "stdout",
     "output_type": "stream",
     "text": [
      "[1. 4. 3.]\n",
      "float64\n"
     ]
    }
   ],
   "source": [
    "y = np.array([1., 4, 3]) # with decimal point in \"1.\", defaults to 'float' type\n",
    "print(y)\n",
    "print(y.dtype)"
   ]
  },
  {
   "cell_type": "code",
   "execution_count": null,
   "metadata": {},
   "outputs": [
    {
     "name": "stdout",
     "output_type": "stream",
     "text": [
      "[1 4 3]\n",
      "int64\n"
     ]
    }
   ],
   "source": [
    "y_int = np.array([1, 4, 3]) # without decimal point, defaults to 'int' type\n",
    "print(y_int)\n",
    "print(y_int.dtype)"
   ]
  },
  {
   "cell_type": "code",
   "execution_count": null,
   "metadata": {},
   "outputs": [
    {
     "name": "stdout",
     "output_type": "stream",
     "text": [
      "[123.]\n",
      "float32\n"
     ]
    }
   ],
   "source": [
    "y_float32 = np.array([123.], dtype=np.float32) # use optional keyword argument ('kwarg') to specify data type\n",
    "print(y_float32)\n",
    "print(y_float32.dtype)"
   ]
  },
  {
   "cell_type": "code",
   "execution_count": null,
   "metadata": {},
   "outputs": [],
   "source": [
    "y_float64 = np.array([123.], dtype=np.float64)"
   ]
  },
  {
   "cell_type": "code",
   "execution_count": null,
   "metadata": {},
   "outputs": [
    {
     "name": "stdout",
     "output_type": "stream",
     "text": [
      "y_float32:\n",
      "  num bytes 4\n",
      "y_float64:\n",
      "  num bytes 8\n"
     ]
    }
   ],
   "source": [
    "print(\"y_float32:\")\n",
    "print(\"  num bytes\", y_float32.nbytes) # each entry is 32bits = 4 bytes\n",
    "print(\"y_float64:\")\n",
    "print(\"  num bytes\", y_float64.nbytes) # each entry is 64bits = 8 bytes"
   ]
  },
  {
   "cell_type": "code",
   "execution_count": null,
   "metadata": {},
   "outputs": [
    {
     "name": "stdout",
     "output_type": "stream",
     "text": [
      "[246.]\n",
      "float64\n"
     ]
    }
   ],
   "source": [
    "# What happens when you add float32 to float64? \n",
    "# result is *upcast* so no precision is lost\n",
    "z = y_float64 + y_float32 \n",
    "print(z)\n",
    "print(z.dtype)"
   ]
  },
  {
   "cell_type": "markdown",
   "metadata": {},
   "source": [
    "<a id=\"dimension_and_shape\"></a>"
   ]
  },
  {
   "cell_type": "markdown",
   "metadata": {},
   "source": [
    "# Dimension and Shape\n",
    "\n",
    "Arrays have DIMENSION and SHAPE\n",
    "\n",
    "Dimension = an integer value : number of integers needed to index a unique entry of the array\n",
    "\n",
    "Shape = a tuple of integers : each entry gives the size of the corresponding dimension\n"
   ]
  },
  {
   "cell_type": "code",
   "execution_count": null,
   "metadata": {},
   "outputs": [
    {
     "data": {
      "text/plain": [
       "array([1., 4., 3.])"
      ]
     },
     "execution_count": null,
     "metadata": {},
     "output_type": "execute_result"
    }
   ],
   "source": [
    "y"
   ]
  },
  {
   "cell_type": "code",
   "execution_count": null,
   "metadata": {},
   "outputs": [
    {
     "data": {
      "text/plain": [
       "1"
      ]
     },
     "execution_count": null,
     "metadata": {},
     "output_type": "execute_result"
    }
   ],
   "source": [
    "y.ndim"
   ]
  },
  {
   "cell_type": "code",
   "execution_count": null,
   "metadata": {},
   "outputs": [
    {
     "data": {
      "text/plain": [
       "(3,)"
      ]
     },
     "execution_count": null,
     "metadata": {},
     "output_type": "execute_result"
    }
   ],
   "source": [
    "y.shape"
   ]
  },
  {
   "cell_type": "code",
   "execution_count": null,
   "metadata": {},
   "outputs": [
    {
     "name": "stdout",
     "output_type": "stream",
     "text": [
      "[[1. 4. 7.]\n",
      " [2. 5. 8.]\n",
      " [3. 6. 9.]]\n"
     ]
    }
   ],
   "source": [
    "# Create 2D 3x3 array 'M' as floats\n",
    "M = np.asarray([[1, 4, 7.0], [2, 5, 8], [3, 6, 9]])\n",
    "print(M)"
   ]
  },
  {
   "cell_type": "code",
   "execution_count": null,
   "metadata": {},
   "outputs": [
    {
     "name": "stdout",
     "output_type": "stream",
     "text": [
      "2\n"
     ]
    }
   ],
   "source": [
    "print(M.ndim)"
   ]
  },
  {
   "cell_type": "code",
   "execution_count": null,
   "metadata": {},
   "outputs": [
    {
     "name": "stdout",
     "output_type": "stream",
     "text": [
      "(3, 3)\n"
     ]
    }
   ],
   "source": [
    "print(M.shape)"
   ]
  },
  {
   "cell_type": "code",
   "execution_count": null,
   "metadata": {},
   "outputs": [
    {
     "name": "stdout",
     "output_type": "stream",
     "text": [
      "[[ 1.  4.  7. 10. 13.]\n",
      " [ 2.  5.  8. 11. 14.]\n",
      " [ 3.  6.  9. 12. 15.]]\n"
     ]
    }
   ],
   "source": [
    "# Create 2D *rectangular* array\n",
    "M_35 = np.asarray([[1, 4, 7.0, 10, 13], [2, 5, 8, 11, 14], [3, 6, 9, 12, 15]])\n",
    "print(M_35)"
   ]
  },
  {
   "cell_type": "code",
   "execution_count": null,
   "metadata": {},
   "outputs": [
    {
     "data": {
      "text/plain": [
       "(3, 5)"
      ]
     },
     "execution_count": null,
     "metadata": {},
     "output_type": "execute_result"
    }
   ],
   "source": [
    "M_35.shape"
   ]
  },
  {
   "cell_type": "markdown",
   "metadata": {},
   "source": [
    "## CS 135 shape-suffix notation\n",
    "\n",
    "Convention throughout this semester: \n",
    "\n",
    "Every variable whose type is `ndarray` has in its name a suffix that indicates *shape*\n",
    "\n",
    "* `_3` suffix denotes array whose shape is always (3,)\n",
    "* `_A` suffix denotes array with shape (A,), where A is a problem-specific variable\n",
    "* `_AB` suffix to denote an array with shape (A, B)\n",
    "\n",
    "Please try to use this convention! You'll be surprised how much it helps with clear thinking and debugging"
   ]
  },
  {
   "cell_type": "markdown",
   "metadata": {},
   "source": [
    "<a id=\"indexing\"></a>"
   ]
  },
  {
   "cell_type": "markdown",
   "metadata": {},
   "source": [
    "# Indexing numpy arrays\n",
    "\n",
    "Sometimes, we want to grab just one row or just one column of interest."
   ]
  },
  {
   "cell_type": "code",
   "execution_count": null,
   "metadata": {},
   "outputs": [
    {
     "data": {
      "text/plain": [
       "array([[ 1,  5,  9, 13],\n",
       "       [ 2,  6, 10, 14],\n",
       "       [ 3,  7, 11, 15],\n",
       "       [ 4,  8, 12, 16]])"
      ]
     },
     "execution_count": null,
     "metadata": {},
     "output_type": "execute_result"
    }
   ],
   "source": [
    "# Let's make an interesting array of size 4x4\n",
    "# Don't worry about this creation command just yet, focus on what we do with this 4x4 array\n",
    "A_44 = np.arange(1, 17).reshape(4, 4).transpose() \n",
    "A_44"
   ]
  },
  {
   "cell_type": "code",
   "execution_count": null,
   "metadata": {},
   "outputs": [
    {
     "data": {
      "text/plain": [
       "array([ 1,  5,  9, 13])"
      ]
     },
     "execution_count": null,
     "metadata": {},
     "output_type": "execute_result"
    }
   ],
   "source": [
    "# Show the first row. Remember Python counts starting at 0\n",
    "A_44[0]"
   ]
  },
  {
   "cell_type": "code",
   "execution_count": null,
   "metadata": {},
   "outputs": [
    {
     "data": {
      "text/plain": [
       "array([1, 2, 3, 4])"
      ]
     },
     "execution_count": null,
     "metadata": {},
     "output_type": "execute_result"
    }
   ],
   "source": [
    "# Show the first col\n",
    "A_44[:, 0]"
   ]
  },
  {
   "cell_type": "code",
   "execution_count": null,
   "metadata": {},
   "outputs": [
    {
     "data": {
      "text/plain": [
       "array([ 2,  6, 10, 14])"
      ]
     },
     "execution_count": null,
     "metadata": {},
     "output_type": "execute_result"
    }
   ],
   "source": [
    "# Grab the second row\n",
    "A_44[1]"
   ]
  },
  {
   "cell_type": "code",
   "execution_count": null,
   "metadata": {},
   "outputs": [
    {
     "data": {
      "text/plain": [
       "array([[ 1,  5,  9, 13],\n",
       "       [ 2,  6, 10, 14],\n",
       "       [ 3,  7, 11, 15]])"
      ]
     },
     "execution_count": null,
     "metadata": {},
     "output_type": "execute_result"
    }
   ],
   "source": [
    "# Select a range of rows, from index 0 (inclusive) to index 3 (exclusive)\n",
    "A_44[0:3]"
   ]
  },
  {
   "cell_type": "code",
   "execution_count": null,
   "metadata": {},
   "outputs": [
    {
     "data": {
      "text/plain": [
       "array([[ 5,  9, 13],\n",
       "       [ 6, 10, 14],\n",
       "       [ 7, 11, 15]])"
      ]
     },
     "execution_count": null,
     "metadata": {},
     "output_type": "execute_result"
    }
   ],
   "source": [
    "# Select a range of *rows* and a specific range of columns\n",
    "A_44[0:3, 1:4]"
   ]
  },
  {
   "cell_type": "code",
   "execution_count": null,
   "metadata": {},
   "outputs": [
    {
     "data": {
      "text/plain": [
       "array([[ 1,  5,  9, 13],\n",
       "       [ 2,  6, 10, 14]])"
      ]
     },
     "execution_count": null,
     "metadata": {},
     "output_type": "execute_result"
    }
   ],
   "source": [
    "# select a range of rows and all columns\n",
    "A_44[0:2,:]"
   ]
  },
  {
   "cell_type": "code",
   "execution_count": null,
   "metadata": {},
   "outputs": [
    {
     "data": {
      "text/plain": [
       "array([ 4,  8, 12, 16])"
      ]
     },
     "execution_count": null,
     "metadata": {},
     "output_type": "execute_result"
    }
   ],
   "source": [
    "# Grab the *last* row\n",
    "A_44[-1]"
   ]
  },
  {
   "cell_type": "code",
   "execution_count": null,
   "metadata": {},
   "outputs": [
    {
     "data": {
      "text/plain": [
       "array([ 9, 10, 11, 12])"
      ]
     },
     "execution_count": null,
     "metadata": {},
     "output_type": "execute_result"
    }
   ],
   "source": [
    "# Select the *second to last* column\n",
    "A_44[:, -2]"
   ]
  },
  {
   "cell_type": "markdown",
   "metadata": {},
   "source": [
    "## Indexing with an iterable of integers\n",
    "\n",
    "Suppose we want the rows that correspond to ids 1 and 3\n",
    "\n",
    "The following are all equivalent ways to do that"
   ]
  },
  {
   "cell_type": "code",
   "execution_count": null,
   "metadata": {},
   "outputs": [
    {
     "data": {
      "text/plain": [
       "array([[ 2,  6, 10, 14],\n",
       "       [ 4,  8, 12, 16]])"
      ]
     },
     "execution_count": null,
     "metadata": {},
     "output_type": "execute_result"
    }
   ],
   "source": [
    "A_44[ [1,3]]"
   ]
  },
  {
   "cell_type": "code",
   "execution_count": null,
   "metadata": {},
   "outputs": [
    {
     "data": {
      "text/plain": [
       "array([[ 2,  6, 10, 14],\n",
       "       [ 4,  8, 12, 16]])"
      ]
     },
     "execution_count": null,
     "metadata": {},
     "output_type": "execute_result"
    }
   ],
   "source": [
    "row_ids = [1,3]\n",
    "A_44[row_ids]  # row_ids has type 'list'"
   ]
  },
  {
   "cell_type": "code",
   "execution_count": null,
   "metadata": {},
   "outputs": [
    {
     "data": {
      "text/plain": [
       "array([[ 2,  6, 10, 14],\n",
       "       [ 4,  8, 12, 16]])"
      ]
     },
     "execution_count": null,
     "metadata": {},
     "output_type": "execute_result"
    }
   ],
   "source": [
    "row_ids = np.asarray([1,3], dtype=np.int32)\n",
    "A_44[row_ids]  # row_ids has type 'np.ndarray', with elements that are *int* valued"
   ]
  },
  {
   "cell_type": "markdown",
   "metadata": {},
   "source": [
    "We *cannot* do the same thing with an array of floats\n"
   ]
  },
  {
   "cell_type": "code",
   "execution_count": null,
   "metadata": {},
   "outputs": [
    {
     "name": "stdout",
     "output_type": "stream",
     "text": [
      "IndexError\n",
      "arrays used as indices must be of integer (or boolean) type\n"
     ]
    }
   ],
   "source": [
    "row_ids_f64 = np.asarray(row_ids, dtype=np.float64)\n",
    "try:\n",
    "    A_44[row_ids_f64]\n",
    "except Exception as e:\n",
    "    print(type(e).__name__)\n",
    "    print(e)"
   ]
  },
  {
   "cell_type": "markdown",
   "metadata": {},
   "source": [
    "The provided list of indices can include multiples and can be unsorted"
   ]
  },
  {
   "cell_type": "code",
   "execution_count": null,
   "metadata": {},
   "outputs": [
    {
     "data": {
      "text/plain": [
       "array([[ 4,  8, 12, 16],\n",
       "       [ 4,  8, 12, 16],\n",
       "       [ 2,  6, 10, 14],\n",
       "       [ 1,  5,  9, 13]])"
      ]
     },
     "execution_count": null,
     "metadata": {},
     "output_type": "execute_result"
    }
   ],
   "source": [
    "more_ids = np.asarray([3, 3, 1, 0], dtype=np.int32)\n",
    "A_44[more_ids]"
   ]
  },
  {
   "cell_type": "markdown",
   "metadata": {},
   "source": [
    "<a id=\"reshaping\"></a>"
   ]
  },
  {
   "cell_type": "markdown",
   "metadata": {},
   "source": [
    "# Reshaping and newaxis\n",
    "\n",
    "Sometimes, we want to transform from 1-dim to 2-dim arrays, or from 2- to 3-dim arrays.\n",
    "\n",
    "We can either use:\n",
    "* the *reshape* function\n",
    "* indexing with the \"np.newaxis\" built-in <https://numpy.org/doc/stable/reference/constants.html#numpy.newaxis>\n"
   ]
  },
  {
   "cell_type": "markdown",
   "metadata": {},
   "source": [
    "### Demo of reshape"
   ]
  },
  {
   "cell_type": "code",
   "execution_count": null,
   "metadata": {},
   "outputs": [
    {
     "name": "stdout",
     "output_type": "stream",
     "text": [
      "[1. 4. 3.]\n",
      "(3,)\n"
     ]
    }
   ],
   "source": [
    "y = np.array([1.0, 4, 3])\n",
    "print(y)\n",
    "print(y.shape)"
   ]
  },
  {
   "cell_type": "code",
   "execution_count": null,
   "metadata": {},
   "outputs": [
    {
     "name": "stdout",
     "output_type": "stream",
     "text": [
      "[[1. 4. 3.]]\n",
      "(1, 3)\n"
     ]
    }
   ],
   "source": [
    "y_13 = np.reshape(y, (1,3))  # use '_AB' suffix to denote an array with shape (A, B)\n",
    "print(y_13)\n",
    "print(y_13.shape)"
   ]
  },
  {
   "cell_type": "code",
   "execution_count": null,
   "metadata": {},
   "outputs": [
    {
     "name": "stdout",
     "output_type": "stream",
     "text": [
      "[[1.]\n",
      " [4.]\n",
      " [3.]]\n",
      "(3, 1)\n"
     ]
    }
   ],
   "source": [
    "y_31 = np.reshape(y, (3, 1))  # use '_AB' suffix to denote an array with shape (A, B)\n",
    "print(y_31)\n",
    "print(y_31.shape)"
   ]
  },
  {
   "cell_type": "markdown",
   "metadata": {},
   "source": []
  },
  {
   "cell_type": "code",
   "execution_count": null,
   "metadata": {},
   "outputs": [
    {
     "name": "stdout",
     "output_type": "stream",
     "text": [
      "[1. 4. 3.]\n",
      "(3,)\n"
     ]
    }
   ],
   "source": [
    "y_3 = np.array([1.0, 4, 3])\n",
    "print(y_3)\n",
    "print(y_3.shape)"
   ]
  },
  {
   "cell_type": "code",
   "execution_count": null,
   "metadata": {},
   "outputs": [
    {
     "name": "stdout",
     "output_type": "stream",
     "text": [
      "[[1. 4. 3.]]\n"
     ]
    }
   ],
   "source": [
    "y_13 = y[np.newaxis,:] # use newaxis to insert new single dimension\n",
    "print(y_13)"
   ]
  },
  {
   "cell_type": "code",
   "execution_count": null,
   "metadata": {},
   "outputs": [
    {
     "name": "stdout",
     "output_type": "stream",
     "text": [
      "(1, 3)\n"
     ]
    }
   ],
   "source": [
    "print(y_13.shape)"
   ]
  },
  {
   "cell_type": "code",
   "execution_count": null,
   "metadata": {},
   "outputs": [
    {
     "name": "stdout",
     "output_type": "stream",
     "text": [
      "[[1.]\n",
      " [4.]\n",
      " [3.]]\n"
     ]
    }
   ],
   "source": [
    "y_31 = y[:, np.newaxis]\n",
    "print(y_31)"
   ]
  },
  {
   "cell_type": "code",
   "execution_count": null,
   "metadata": {},
   "outputs": [
    {
     "name": "stdout",
     "output_type": "stream",
     "text": [
      "(3, 1)\n"
     ]
    }
   ],
   "source": [
    "print(y_31.shape)"
   ]
  },
  {
   "cell_type": "code",
   "execution_count": null,
   "metadata": {},
   "outputs": [
    {
     "name": "stdout",
     "output_type": "stream",
     "text": [
      "[[[1.]]\n",
      "\n",
      " [[4.]]\n",
      "\n",
      " [[3.]]]\n"
     ]
    }
   ],
   "source": [
    "y_311 = y[:, np.newaxis, np.newaxis]\n",
    "print(y_311)"
   ]
  },
  {
   "cell_type": "code",
   "execution_count": null,
   "metadata": {},
   "outputs": [
    {
     "name": "stdout",
     "output_type": "stream",
     "text": [
      "(3, 1, 1)\n"
     ]
    }
   ],
   "source": [
    "print(y_311.shape)"
   ]
  },
  {
   "cell_type": "markdown",
   "metadata": {},
   "source": [
    "## Demo: how newaxis can help"
   ]
  },
  {
   "cell_type": "code",
   "execution_count": null,
   "metadata": {},
   "outputs": [
    {
     "name": "stdout",
     "output_type": "stream",
     "text": [
      "[[5. 2. 1.]\n",
      " [4. 2. 6.]\n",
      " [1. 1. 0.]]\n"
     ]
    }
   ],
   "source": [
    "x_33 = np.array([[5., 2, 1], [4, 2, 6], [1, 1, 0]])\n",
    "print(x_33)"
   ]
  },
  {
   "cell_type": "code",
   "execution_count": null,
   "metadata": {},
   "outputs": [
    {
     "name": "stdout",
     "output_type": "stream",
     "text": [
      "[[1. 4. 3.]\n",
      " [2. 1. 4.]]\n"
     ]
    }
   ],
   "source": [
    "y_23 = np.array([[1.0, 4, 3], [2, 1, 4]])\n",
    "print(y_23)"
   ]
  },
  {
   "cell_type": "markdown",
   "metadata": {},
   "source": [
    "Suppose you want to subtract each row in y from each row in x \n",
    "\n",
    "You could use a for loop, but we'll learn that forloops in python are slow and should be avoided if possible for efficient code.\n",
    "\n",
    "We might wish to do \n",
    "\n",
    "```\n",
    "x_33 - y_23\n",
    "```\n",
    "\n",
    "However, this will not work out of the box... there's a ValueError that will result.\n"
   ]
  },
  {
   "cell_type": "code",
   "execution_count": null,
   "metadata": {},
   "outputs": [
    {
     "name": "stdout",
     "output_type": "stream",
     "text": [
      "ValueError\n",
      "operands could not be broadcast together with shapes (3,3) (2,3) \n"
     ]
    }
   ],
   "source": [
    "try:\n",
    "    x_33 - y_23\n",
    "except Exception as e:\n",
    "    print(type(e).__name__)\n",
    "    print(e)"
   ]
  },
  {
   "cell_type": "markdown",
   "metadata": {},
   "source": [
    "Instead, we can accomplish our goal (subtract each row of x from each row of y) by\n",
    "\n",
    "* making x into a 3d array with a newaxis at dim 1\n",
    "* making y into a 3d array with a newaxis at dim 0\n",
    "\n",
    "Then, they have compatible shapes, and the \"-\" operator can work!"
   ]
  },
  {
   "cell_type": "code",
   "execution_count": null,
   "metadata": {},
   "outputs": [
    {
     "name": "stdout",
     "output_type": "stream",
     "text": [
      "[[[ 4. -2. -2.]\n",
      "  [ 3.  1. -3.]]\n",
      "\n",
      " [[ 3. -2.  3.]\n",
      "  [ 2.  1.  2.]]\n",
      "\n",
      " [[ 0. -3. -3.]\n",
      "  [-1.  0. -4.]]]\n"
     ]
    }
   ],
   "source": [
    "x_313 = x_33[:,np.newaxis,:]\n",
    "\n",
    "y_123 = y_23[np.newaxis,:,:]\n",
    "\n",
    "z_323 = x_313 - y_123\n",
    "\n",
    "print(z_323)"
   ]
  },
  {
   "cell_type": "code",
   "execution_count": null,
   "metadata": {},
   "outputs": [
    {
     "data": {
      "text/plain": [
       "array([[ 4., -2., -2.],\n",
       "       [ 3., -2.,  3.],\n",
       "       [ 0., -3., -3.]])"
      ]
     },
     "execution_count": null,
     "metadata": {},
     "output_type": "execute_result"
    }
   ],
   "source": [
    "# First row of y subtracted from all rows of x\n",
    "z_323[:,0,:]"
   ]
  },
  {
   "cell_type": "code",
   "execution_count": null,
   "metadata": {},
   "outputs": [
    {
     "data": {
      "text/plain": [
       "array([[ 3.,  1., -3.],\n",
       "       [ 2.,  1.,  2.],\n",
       "       [-1.,  0., -4.]])"
      ]
     },
     "execution_count": null,
     "metadata": {},
     "output_type": "execute_result"
    }
   ],
   "source": [
    "# Second row of y subtracted from all rows of x\n",
    "z_323[:,1,:]"
   ]
  },
  {
   "cell_type": "markdown",
   "metadata": {},
   "source": [
    "<a id=\"elementwise_multiplication\"></a>"
   ]
  },
  {
   "cell_type": "markdown",
   "metadata": {},
   "source": [
    "# Elementwise Multiplication\n",
    "\n",
    "To perform *element-wise* multiplication, use '*' symbol"
   ]
  },
  {
   "cell_type": "code",
   "execution_count": null,
   "metadata": {},
   "outputs": [
    {
     "name": "stdout",
     "output_type": "stream",
     "text": [
      "[1. 4. 3.]\n"
     ]
    }
   ],
   "source": [
    "print(y)"
   ]
  },
  {
   "cell_type": "code",
   "execution_count": null,
   "metadata": {},
   "outputs": [
    {
     "name": "stdout",
     "output_type": "stream",
     "text": [
      "[[1. 4. 7.]\n",
      " [2. 5. 8.]\n",
      " [3. 6. 9.]]\n"
     ]
    }
   ],
   "source": [
    "print(M)"
   ]
  },
  {
   "cell_type": "code",
   "execution_count": null,
   "metadata": {},
   "outputs": [
    {
     "name": "stdout",
     "output_type": "stream",
     "text": [
      "[[ 1. 16. 49.]\n",
      " [ 4. 25. 64.]\n",
      " [ 9. 36. 81.]]\n"
     ]
    }
   ],
   "source": [
    "R = M * M\n",
    "print(R)"
   ]
  },
  {
   "cell_type": "code",
   "execution_count": null,
   "metadata": {},
   "outputs": [],
   "source": [
    "# What happens when we multiply (3,3) shape by a (3,) shape?\n",
    "# y is implicitly expanded to (1,3) and thus multiplied element-wise to each row"
   ]
  },
  {
   "cell_type": "code",
   "execution_count": null,
   "metadata": {},
   "outputs": [
    {
     "data": {
      "text/plain": [
       "array([[ 1., 16., 21.],\n",
       "       [ 2., 20., 24.],\n",
       "       [ 3., 24., 27.]])"
      ]
     },
     "execution_count": null,
     "metadata": {},
     "output_type": "execute_result"
    }
   ],
   "source": [
    "M * y"
   ]
  },
  {
   "cell_type": "code",
   "execution_count": null,
   "metadata": {},
   "outputs": [
    {
     "data": {
      "text/plain": [
       "array([[ 1., 16., 21.],\n",
       "       [ 2., 20., 24.],\n",
       "       [ 3., 24., 27.]])"
      ]
     },
     "execution_count": null,
     "metadata": {},
     "output_type": "execute_result"
    }
   ],
   "source": [
    "M * y[np.newaxis,:]  # same thing as above, but more explicit"
   ]
  },
  {
   "cell_type": "code",
   "execution_count": null,
   "metadata": {},
   "outputs": [
    {
     "data": {
      "text/plain": [
       "array([[ 1.,  4.,  7.],\n",
       "       [ 8., 20., 32.],\n",
       "       [ 9., 18., 27.]])"
      ]
     },
     "execution_count": null,
     "metadata": {},
     "output_type": "execute_result"
    }
   ],
   "source": [
    "M * y[:,np.newaxis]  # this makes y multiplied to each column"
   ]
  },
  {
   "cell_type": "markdown",
   "metadata": {},
   "source": [
    "In NumPy, multiplying an (M,N) array by an (M,) array is known as *broadcasting*\n",
    "\n",
    "NumPy's *implicit* rules for what happens are defined here:\n",
    "\n",
    "https://numpy.org/doc/stable/user/basics.broadcasting.html\n",
    "\n",
    "CS 135 Code Style: We suggest **explicit** is better than implicit"
   ]
  },
  {
   "cell_type": "code",
   "execution_count": null,
   "metadata": {},
   "outputs": [
    {
     "data": {
      "text/plain": [
       "array([[ 1., 16., 21.],\n",
       "       [ 2., 20., 24.],\n",
       "       [ 3., 24., 27.]])"
      ]
     },
     "execution_count": null,
     "metadata": {},
     "output_type": "execute_result"
    }
   ],
   "source": [
    "# OK, will run, but hard to understand\n",
    "M * y"
   ]
  },
  {
   "cell_type": "code",
   "execution_count": null,
   "metadata": {},
   "outputs": [
    {
     "data": {
      "text/plain": [
       "array([[ 1., 16., 21.],\n",
       "       [ 2., 20., 24.],\n",
       "       [ 3., 24., 27.]])"
      ]
     },
     "execution_count": null,
     "metadata": {},
     "output_type": "execute_result"
    }
   ],
   "source": [
    "# Preferred\n",
    "M_33 = M\n",
    "y_13 = y_3[np.newaxis,:]\n",
    "M_33 * y_13"
   ]
  },
  {
   "cell_type": "markdown",
   "metadata": {},
   "source": [
    "<a id=\"matrix_multiplication\"></a>"
   ]
  },
  {
   "cell_type": "markdown",
   "metadata": {},
   "source": [
    "# Matrix multiplication, refresher\n",
    "\n",
    "Recall the basic definition of a **matrix multiplication** from mathematics. See <https://en.wikipedia.org/wiki/Matrix_multiplication>\n",
    "\n",
    "We are given two input matrices: \n",
    "\n",
    "* $A$ of shape $(m,n)$\n",
    "* $B$ of shape $(n,p)$\n",
    "\n",
    "The multiplication of $A$ by $B$ produces a new matrix\n",
    "\n",
    "* $C$ of shape $(m,p)$\n",
    "\n",
    "The matrix multiply operation $\\texttt{MatrixMult}(A,B)$ is often denoted by simple \"no operator\" notation: $A B$\n",
    "\n",
    "The formal definition of the result $C = A B$ of this operation is that we build matrix $C$ so that its $i,k$-th entry is\n",
    "\n",
    "$$\n",
    "C_{i,k} = \\sum_{j=1}^n A_{i,j} B_{j,k}\n",
    "$$\n",
    "\n",
    "for valid indices $i \\in \\{1, 2, \\ldots m\\}$ and $k \\in \\{1, 2, \\ldots p\\}$.\n",
    "\n",
    "See diagram of matrix multiplication below\n",
    "\n",
    "<table>\n",
    "    <tr>\n",
    "        <td>\n",
    "        <img width=400px src=\"https://upload.wikimedia.org/wikipedia/commons/thumb/1/18/Matrix_multiplication_qtl1.svg/1024px-Matrix_multiplication_qtl1.svg.png\">\n",
    "        <td>\n",
    "        <img width=400px src=\"https://upload.wikimedia.org/wikipedia/commons/thumb/e/eb/Matrix_multiplication_diagram_2.svg/330px-Matrix_multiplication_diagram_2.svg.png\">\n",
    "        </td>\n",
    "    </tr>\n",
    "</table>"
   ]
  },
  {
   "cell_type": "markdown",
   "metadata": {},
   "source": [
    "# Matrix multiplication via np.matmul\n",
    "\n",
    "In NumPy, we can use `np.matmul` to perform matrix multiplication.\n",
    "\n",
    "Docs for `np.matmul`: <https://numpy.org/doc/stable/reference/generated/numpy.matmul.html>\n",
    "\n",
    "Keep in mind, the \"type\" of all the variables here is still NumPy's ND-array. There is no special \"matrix\" or \"vector\" type."
   ]
  },
  {
   "cell_type": "code",
   "execution_count": null,
   "metadata": {},
   "outputs": [
    {
     "data": {
      "text/plain": [
       "array([[1., 4., 7.],\n",
       "       [2., 5., 8.],\n",
       "       [3., 6., 9.]])"
      ]
     },
     "execution_count": null,
     "metadata": {},
     "output_type": "execute_result"
    }
   ],
   "source": [
    "M_33"
   ]
  },
  {
   "cell_type": "code",
   "execution_count": null,
   "metadata": {},
   "outputs": [
    {
     "data": {
      "text/plain": [
       "array([1., 4., 3.])"
      ]
     },
     "execution_count": null,
     "metadata": {},
     "output_type": "execute_result"
    }
   ],
   "source": [
    "y_3 = np.array([1.0, 4, 3])\n",
    "y_3"
   ]
  },
  {
   "cell_type": "markdown",
   "metadata": {},
   "source": [
    "## matmul of (3,3) and (3,1) arrays"
   ]
  },
  {
   "cell_type": "code",
   "execution_count": null,
   "metadata": {},
   "outputs": [
    {
     "data": {
      "text/plain": [
       "array([[38.],\n",
       "       [46.],\n",
       "       [54.]])"
      ]
     },
     "execution_count": null,
     "metadata": {},
     "output_type": "execute_result"
    }
   ],
   "source": [
    "np.matmul(M_33, y_3[:,np.newaxis])"
   ]
  },
  {
   "cell_type": "markdown",
   "metadata": {},
   "source": [
    "## matmul of (3,3) array with itself"
   ]
  },
  {
   "cell_type": "code",
   "execution_count": null,
   "metadata": {},
   "outputs": [
    {
     "data": {
      "text/plain": [
       "array([[ 30.,  66., 102.],\n",
       "       [ 36.,  81., 126.],\n",
       "       [ 42.,  96., 150.]])"
      ]
     },
     "execution_count": null,
     "metadata": {},
     "output_type": "execute_result"
    }
   ],
   "source": [
    "np.matmul(M_33, M_33)"
   ]
  },
  {
   "cell_type": "markdown",
   "metadata": {},
   "source": [
    "## matmul of (3,) array with itself = inner product of that 'vector' with itself"
   ]
  },
  {
   "cell_type": "code",
   "execution_count": null,
   "metadata": {},
   "outputs": [
    {
     "data": {
      "text/plain": [
       "26.0"
      ]
     },
     "execution_count": null,
     "metadata": {},
     "output_type": "execute_result"
    }
   ],
   "source": [
    "np.matmul(y_3, y_3)"
   ]
  },
  {
   "cell_type": "code",
   "execution_count": null,
   "metadata": {},
   "outputs": [
    {
     "data": {
      "text/plain": [
       "26.0"
      ]
     },
     "execution_count": null,
     "metadata": {},
     "output_type": "execute_result"
    }
   ],
   "source": [
    "np.inner(y_3, y_3)"
   ]
  },
  {
   "cell_type": "code",
   "execution_count": null,
   "metadata": {},
   "outputs": [
    {
     "data": {
      "text/plain": [
       "26.0"
      ]
     },
     "execution_count": null,
     "metadata": {},
     "output_type": "execute_result"
    }
   ],
   "source": [
    "np.sum(np.square(y_3)) #another way to write an inner product"
   ]
  },
  {
   "cell_type": "markdown",
   "metadata": {},
   "source": [
    "## Verify: matmul works even if we 'reshape' y to do (1,3) x (3,1) matrix product"
   ]
  },
  {
   "cell_type": "code",
   "execution_count": null,
   "metadata": {},
   "outputs": [
    {
     "data": {
      "text/plain": [
       "array([[26.]])"
      ]
     },
     "execution_count": null,
     "metadata": {},
     "output_type": "execute_result"
    }
   ],
   "source": [
    "y_13 = y_3[np.newaxis,:]\n",
    "y_31 = y_3[:,np.newaxis]\n",
    "\n",
    "np.matmul(y_13, y_31)"
   ]
  },
  {
   "cell_type": "markdown",
   "metadata": {},
   "source": [
    "<a id=\"pseudorandom_number_generation\"></a>"
   ]
  },
  {
   "cell_type": "markdown",
   "metadata": {},
   "source": [
    "<a id=\"prng\"></a>\n",
    "\n",
    "# Pseudorandom number generation"
   ]
  },
  {
   "cell_type": "markdown",
   "metadata": {},
   "source": [
    "### Generate 15 values uniformly distributed between 0 and 1"
   ]
  },
  {
   "cell_type": "code",
   "execution_count": null,
   "metadata": {},
   "outputs": [
    {
     "name": "stdout",
     "output_type": "stream",
     "text": [
      "[0.43712257 0.88612673 0.76701159 0.99264217 0.47212508 0.87899298\n",
      " 0.87038322 0.05296748 0.38636216 0.17110279 0.32797272 0.28355739\n",
      " 0.48347777 0.17383597 0.29097257]\n"
     ]
    }
   ],
   "source": [
    "x = np.random.uniform(size=15) \n",
    "print(x)"
   ]
  },
  {
   "cell_type": "markdown",
   "metadata": {},
   "source": [
    "### Generate 15 float values normally distributed according to 'standard' normal (mean 0, variance 1)\n"
   ]
  },
  {
   "cell_type": "code",
   "execution_count": null,
   "metadata": {},
   "outputs": [
    {
     "name": "stdout",
     "output_type": "stream",
     "text": [
      "[ 0.56329    -0.80961345  1.57636708  0.12752517  0.28277707 -0.6204834\n",
      "  0.30154359 -0.20037812  0.89625099  0.90651468  0.92620566  1.55300323\n",
      "  0.0969203   0.81211239  0.40441021]\n"
     ]
    }
   ],
   "source": [
    "x = np.random.normal(size=15)\n",
    "print(x)"
   ]
  },
  {
   "cell_type": "markdown",
   "metadata": {},
   "source": [
    "### To make *repeatable* pseudo-randomness, use a generator with the same seed!\n",
    "\n",
    "A \"seed\" can just be any *positive* integer. It completely determines how the generator produces its sequence of \"random\" values\n",
    "\n",
    "Note: prng is short for pseudo-random number generator, see https://en.wikipedia.org/wiki/Pseudorandom_number_generator"
   ]
  },
  {
   "cell_type": "code",
   "execution_count": null,
   "metadata": {},
   "outputs": [
    {
     "data": {
      "text/plain": [
       "array([0.1636023 , 0.62062216, 0.90113139, 0.7664971 , 0.51324219,\n",
       "       0.0966023 , 0.45981236, 0.13687653, 0.94882576, 0.49120575])"
      ]
     },
     "execution_count": null,
     "metadata": {},
     "output_type": "execute_result"
    }
   ],
   "source": [
    "seedA = 9876\n",
    "seedB = 1234\n",
    "prng = np.random.RandomState(seedA) \n",
    "prng.uniform(size=10)"
   ]
  },
  {
   "cell_type": "code",
   "execution_count": null,
   "metadata": {},
   "outputs": [
    {
     "data": {
      "text/plain": [
       "array([0.1636023 , 0.62062216, 0.90113139, 0.7664971 , 0.51324219,\n",
       "       0.0966023 , 0.45981236, 0.13687653, 0.94882576, 0.49120575])"
      ]
     },
     "execution_count": null,
     "metadata": {},
     "output_type": "execute_result"
    }
   ],
   "source": [
    "prng = np.random.RandomState(seedA)\n",
    "prng.uniform(size=10)               # should be SAME as above"
   ]
  },
  {
   "cell_type": "code",
   "execution_count": null,
   "metadata": {},
   "outputs": [
    {
     "data": {
      "text/plain": [
       "array([0.19151945, 0.62210877, 0.43772774, 0.78535858, 0.77997581,\n",
       "       0.27259261, 0.27646426, 0.80187218, 0.95813935, 0.87593263])"
      ]
     },
     "execution_count": null,
     "metadata": {},
     "output_type": "execute_result"
    }
   ],
   "source": [
    "prng = np.random.RandomState(seedB)\n",
    "prng.uniform(size=10)              # should be DIFFERENT than above, because seed is different"
   ]
  },
  {
   "cell_type": "markdown",
   "metadata": {},
   "source": [
    "### To \"shuffle\" or permute a sequence, use the permutation function"
   ]
  },
  {
   "cell_type": "code",
   "execution_count": null,
   "metadata": {},
   "outputs": [],
   "source": [
    "my_array_5 = np.arange(1,6)"
   ]
  },
  {
   "cell_type": "code",
   "execution_count": null,
   "metadata": {},
   "outputs": [
    {
     "data": {
      "text/plain": [
       "array([1, 2, 3, 4, 5])"
      ]
     },
     "execution_count": null,
     "metadata": {},
     "output_type": "execute_result"
    }
   ],
   "source": [
    "my_array_5"
   ]
  },
  {
   "cell_type": "code",
   "execution_count": null,
   "metadata": {},
   "outputs": [
    {
     "data": {
      "text/plain": [
       "array([3, 5, 4, 1, 2])"
      ]
     },
     "execution_count": null,
     "metadata": {},
     "output_type": "execute_result"
    }
   ],
   "source": [
    "prng = np.random.RandomState(8675309)\n",
    "prng.permutation(my_array_5) # shuffle the sequence"
   ]
  },
  {
   "cell_type": "code",
   "execution_count": null,
   "metadata": {},
   "outputs": [
    {
     "data": {
      "text/plain": [
       "array([3, 4, 2, 5, 1])"
      ]
     },
     "execution_count": null,
     "metadata": {},
     "output_type": "execute_result"
    }
   ],
   "source": [
    "prng.permutation(my_array_5) # shuffle it again"
   ]
  },
  {
   "cell_type": "code",
   "execution_count": null,
   "metadata": {},
   "outputs": [
    {
     "data": {
      "text/plain": [
       "array([4, 2, 1, 3, 5])"
      ]
     },
     "execution_count": null,
     "metadata": {},
     "output_type": "execute_result"
    }
   ],
   "source": [
    "prng.permutation(my_array_5) # shuffle the sequence again"
   ]
  },
  {
   "cell_type": "markdown",
   "metadata": {},
   "source": [
    "<a id=\"useful_functions\"></a>"
   ]
  },
  {
   "cell_type": "markdown",
   "metadata": {},
   "source": [
    "# Useful functions"
   ]
  },
  {
   "cell_type": "markdown",
   "metadata": {},
   "source": [
    "## zeros : Create array of all zeros of desired shape and dtype\n",
    "\n",
    "* Remember, the default dtype is `np.float64`"
   ]
  },
  {
   "cell_type": "code",
   "execution_count": null,
   "metadata": {},
   "outputs": [
    {
     "data": {
      "text/plain": [
       "array([0., 0., 0., 0., 0., 0., 0., 0.])"
      ]
     },
     "execution_count": null,
     "metadata": {},
     "output_type": "execute_result"
    }
   ],
   "source": [
    "np.zeros(8)"
   ]
  },
  {
   "cell_type": "code",
   "execution_count": null,
   "metadata": {},
   "outputs": [
    {
     "data": {
      "text/plain": [
       "array([[0., 0.],\n",
       "       [0., 0.],\n",
       "       [0., 0.]])"
      ]
     },
     "execution_count": null,
     "metadata": {},
     "output_type": "execute_result"
    }
   ],
   "source": [
    "np.zeros((3, 2))"
   ]
  },
  {
   "cell_type": "code",
   "execution_count": null,
   "metadata": {},
   "outputs": [
    {
     "data": {
      "text/plain": [
       "array([[[0, 0, 0],\n",
       "        [0, 0, 0]]], dtype=int32)"
      ]
     },
     "execution_count": null,
     "metadata": {},
     "output_type": "execute_result"
    }
   ],
   "source": [
    "np.zeros((1,2,3), dtype=np.int32) # provide desired dtype"
   ]
  },
  {
   "cell_type": "markdown",
   "metadata": {},
   "source": [
    "### ones : Create array of all ones of desired shape and dtype"
   ]
  },
  {
   "cell_type": "code",
   "execution_count": null,
   "metadata": {},
   "outputs": [
    {
     "data": {
      "text/plain": [
       "array([1., 1., 1., 1., 1., 1., 1.])"
      ]
     },
     "execution_count": null,
     "metadata": {},
     "output_type": "execute_result"
    }
   ],
   "source": [
    "np.ones(7)"
   ]
  },
  {
   "cell_type": "code",
   "execution_count": null,
   "metadata": {},
   "outputs": [
    {
     "data": {
      "text/plain": [
       "array([[1, 1, 1, 1, 1, 1, 1, 1, 1],\n",
       "       [1, 1, 1, 1, 1, 1, 1, 1, 1],\n",
       "       [1, 1, 1, 1, 1, 1, 1, 1, 1]], dtype=int32)"
      ]
     },
     "execution_count": null,
     "metadata": {},
     "output_type": "execute_result"
    }
   ],
   "source": [
    "np.ones((3,9), dtype=np.int32)"
   ]
  },
  {
   "cell_type": "markdown",
   "metadata": {},
   "source": [
    "### linspace : Linearly spaced numbers between provided low and high values\n"
   ]
  },
  {
   "cell_type": "code",
   "execution_count": null,
   "metadata": {},
   "outputs": [
    {
     "data": {
      "text/plain": [
       "array([-2., -1.,  0.,  1.,  2.])"
      ]
     },
     "execution_count": null,
     "metadata": {},
     "output_type": "execute_result"
    }
   ],
   "source": [
    "N = 5\n",
    "x_N = np.linspace(-2, 2, num=N)\n",
    "x_N"
   ]
  },
  {
   "cell_type": "markdown",
   "metadata": {},
   "source": [
    "### logspace : Logarithmically spaced numbers between provided low and high values"
   ]
  },
  {
   "cell_type": "code",
   "execution_count": null,
   "metadata": {},
   "outputs": [
    {
     "data": {
      "text/plain": [
       "array([1.e-02, 1.e-01, 1.e+00, 1.e+01, 1.e+02])"
      ]
     },
     "execution_count": null,
     "metadata": {},
     "output_type": "execute_result"
    }
   ],
   "source": [
    "x_N = np.logspace(-2, 2, base=10, num=N)\n",
    "x_N"
   ]
  },
  {
   "cell_type": "markdown",
   "metadata": {},
   "source": [
    "### arange : evenly spaced values in given interval\n",
    "\n",
    "https://numpy.org/doc/stable/reference/generated/numpy.arange.html\n",
    "\n",
    "Remember, Python counting conventions: \n",
    "\n",
    "* start at 0 by default\n",
    "* the inner bound is *inclusive*\n",
    "* the upper bound is *exclusive*"
   ]
  },
  {
   "cell_type": "code",
   "execution_count": null,
   "metadata": {},
   "outputs": [
    {
     "name": "stdout",
     "output_type": "stream",
     "text": [
      "[0 1 2 3]\n"
     ]
    }
   ],
   "source": [
    "# Start at 0 (default), count up by 1 (default) until you get to 4 (exclusive)\n",
    "x = np.arange(4)\n",
    "print(x)"
   ]
  },
  {
   "cell_type": "code",
   "execution_count": null,
   "metadata": {},
   "outputs": [
    {
     "name": "stdout",
     "output_type": "stream",
     "text": [
      "[-3.14159265 -2.35619449 -1.57079633 -0.78539816  0.          0.78539816\n",
      "  1.57079633  2.35619449]\n"
     ]
    }
   ],
   "source": [
    "# Start at negative PI, count up by increments of pi/4 until you get to + PI (exclusive)\n",
    "\n",
    "y = np.arange(start=-np.pi, stop=np.pi, step=np.pi/4)\n",
    "print(y)"
   ]
  },
  {
   "cell_type": "code",
   "execution_count": null,
   "metadata": {},
   "outputs": [
    {
     "name": "stdout",
     "output_type": "stream",
     "text": [
      "[-3.14159265 -2.35619449 -1.57079633 -0.78539816  0.          0.78539816\n",
      "  1.57079633  2.35619449  3.14159265]\n"
     ]
    }
   ],
   "source": [
    "# Start at negative PI, count up by increments of pi/4 until you get to PI + very small number (exclusive)\n",
    "\n",
    "y = np.arange(start=-np.pi, stop=np.pi + 0.0000001, step=np.pi/4)\n",
    "print(y)"
   ]
  },
  {
   "cell_type": "markdown",
   "metadata": {},
   "source": [
    "### allclose : verify if all values in an array are \"close enough\"\n",
    "\n",
    "https://numpy.org/doc/stable/reference/generated/numpy.allclose.html\n",
    "\n",
    "Useful when checking if entries in an array are \"close enough\" to some reference value\n",
    "\n",
    "E.g. sometimes due to numerical issues of representation, we would consider 5.00002 as good as \"5\""
   ]
  },
  {
   "cell_type": "code",
   "execution_count": null,
   "metadata": {},
   "outputs": [
    {
     "name": "stdout",
     "output_type": "stream",
     "text": [
      "[0 1 2 3]\n"
     ]
    }
   ],
   "source": [
    "x_N = np.arange(4)\n",
    "print(x_N)"
   ]
  },
  {
   "cell_type": "code",
   "execution_count": null,
   "metadata": {},
   "outputs": [
    {
     "name": "stdout",
     "output_type": "stream",
     "text": [
      "[1.000000e-06 1.000001e+00 2.000001e+00 3.000001e+00]\n"
     ]
    }
   ],
   "source": [
    "x2_N = x_N + 0.000001\n",
    "print(x2_N)"
   ]
  },
  {
   "cell_type": "code",
   "execution_count": null,
   "metadata": {},
   "outputs": [
    {
     "data": {
      "text/plain": [
       "False"
      ]
     },
     "execution_count": null,
     "metadata": {},
     "output_type": "execute_result"
    }
   ],
   "source": [
    "np.all(x_N == x2_N)"
   ]
  },
  {
   "cell_type": "code",
   "execution_count": null,
   "metadata": {},
   "outputs": [
    {
     "data": {
      "text/plain": [
       "True"
      ]
     },
     "execution_count": null,
     "metadata": {},
     "output_type": "execute_result"
    }
   ],
   "source": [
    "np.allclose(x_N, x2_N, atol=0.01) # 'atol' is *absolute tolerance*"
   ]
  },
  {
   "cell_type": "code",
   "execution_count": null,
   "metadata": {},
   "outputs": [
    {
     "data": {
      "text/plain": [
       "False"
      ]
     },
     "execution_count": null,
     "metadata": {},
     "output_type": "execute_result"
    }
   ],
   "source": [
    "np.allclose(x_N, x2_N, atol=1e-7) # trying with too small a tolerance will result in False"
   ]
  },
  {
   "cell_type": "markdown",
   "metadata": {},
   "source": [
    "### sort : sort values in *ascending* order"
   ]
  },
  {
   "cell_type": "code",
   "execution_count": null,
   "metadata": {},
   "outputs": [
    {
     "data": {
      "text/plain": [
       "array([1, 2, 3, 4, 5])"
      ]
     },
     "execution_count": null,
     "metadata": {},
     "output_type": "execute_result"
    }
   ],
   "source": [
    "np.sort([3, 4, 5, 1, 2])"
   ]
  },
  {
   "cell_type": "code",
   "execution_count": null,
   "metadata": {},
   "outputs": [
    {
     "data": {
      "text/plain": [
       "array([[3, 4, 5, 1, 2],\n",
       "       [9, 7, 8, 6, 0]])"
      ]
     },
     "execution_count": null,
     "metadata": {},
     "output_type": "execute_result"
    }
   ],
   "source": [
    "A_25= np.asarray([\n",
    "    [3,4,5,1,2],\n",
    "    [9,7,8,6,0],\n",
    "])\n",
    "A_25"
   ]
  },
  {
   "cell_type": "markdown",
   "metadata": {},
   "source": [
    "Sorting ND arrays requires specifying an axis"
   ]
  },
  {
   "cell_type": "code",
   "execution_count": null,
   "metadata": {},
   "outputs": [
    {
     "data": {
      "text/plain": [
       "array([[3, 4, 5, 1, 0],\n",
       "       [9, 7, 8, 6, 2]])"
      ]
     },
     "execution_count": null,
     "metadata": {},
     "output_type": "execute_result"
    }
   ],
   "source": [
    "np.sort(A_25, axis=0) # sort across first dim (sort each column)"
   ]
  },
  {
   "cell_type": "code",
   "execution_count": null,
   "metadata": {},
   "outputs": [
    {
     "data": {
      "text/plain": [
       "array([[1, 2, 3, 4, 5],\n",
       "       [0, 6, 7, 8, 9]])"
      ]
     },
     "execution_count": null,
     "metadata": {},
     "output_type": "execute_result"
    }
   ],
   "source": [
    "np.sort(A_25, axis=1) # sort across second dim (sort each row)"
   ]
  },
  {
   "cell_type": "markdown",
   "metadata": {},
   "source": [
    "### argsort : get indices that are usable to sort the array"
   ]
  },
  {
   "cell_type": "code",
   "execution_count": null,
   "metadata": {},
   "outputs": [],
   "source": [
    "arr_3 = np.asarray([5.9, 0, 3., -2.1])"
   ]
  },
  {
   "cell_type": "code",
   "execution_count": null,
   "metadata": {},
   "outputs": [
    {
     "data": {
      "text/plain": [
       "array([3, 1, 2, 0])"
      ]
     },
     "execution_count": null,
     "metadata": {},
     "output_type": "execute_result"
    }
   ],
   "source": [
    "ids_3 = np.argsort(arr_3)\n",
    "ids_3"
   ]
  },
  {
   "cell_type": "code",
   "execution_count": null,
   "metadata": {},
   "outputs": [
    {
     "data": {
      "text/plain": [
       "array([-2.1,  0. ,  3. ,  5.9])"
      ]
     },
     "execution_count": null,
     "metadata": {},
     "output_type": "execute_result"
    }
   ],
   "source": [
    "arr_3[ids_3]"
   ]
  },
  {
   "cell_type": "markdown",
   "metadata": {},
   "source": [
    "For ND arrays, you can again provide an `axis` argument"
   ]
  },
  {
   "cell_type": "code",
   "execution_count": null,
   "metadata": {},
   "outputs": [
    {
     "data": {
      "text/plain": [
       "array([[3, 4, 5, 1, 2],\n",
       "       [9, 7, 8, 6, 0]])"
      ]
     },
     "execution_count": null,
     "metadata": {},
     "output_type": "execute_result"
    }
   ],
   "source": [
    "A_25"
   ]
  },
  {
   "cell_type": "code",
   "execution_count": null,
   "metadata": {},
   "outputs": [
    {
     "data": {
      "text/plain": [
       "array([[0, 0, 0, 0, 1],\n",
       "       [1, 1, 1, 1, 0]])"
      ]
     },
     "execution_count": null,
     "metadata": {},
     "output_type": "execute_result"
    }
   ],
   "source": [
    "np.argsort(A_25, axis=0)"
   ]
  },
  {
   "cell_type": "code",
   "execution_count": null,
   "metadata": {},
   "outputs": [
    {
     "data": {
      "text/plain": [
       "array([[3, 4, 0, 1, 2],\n",
       "       [4, 3, 1, 2, 0]])"
      ]
     },
     "execution_count": null,
     "metadata": {},
     "output_type": "execute_result"
    }
   ],
   "source": [
    "np.argsort(A_25, axis=1)"
   ]
  },
  {
   "cell_type": "markdown",
   "metadata": {},
   "source": [
    "<a id=\"reductions\"></a>"
   ]
  },
  {
   "cell_type": "markdown",
   "metadata": {},
   "source": [
    "# Reductions\n",
    "\n",
    "\n",
    "Some numpy functions like '[sum](https://numpy.org/doc/stable/reference/generated/numpy.sum.html\n",
    ")' or 'prod' or 'max' or 'min' that take in arrays with many values and produce fewer values.\n",
    "\n",
    "These kinds of operations are known as \"reductions\": https://numpy.org/doc/stable/reference/generated/numpy.ufunc.reduce.html\n",
    "\n",
    "Within numpy, any reduction function takes an optional 'axis' keyword argument (\"kwarg\") to specify specific dimensions to apply the reduction to\n"
   ]
  },
  {
   "cell_type": "code",
   "execution_count": null,
   "metadata": {},
   "outputs": [
    {
     "data": {
      "text/plain": [
       "array([[ 1,  5,  9, 13],\n",
       "       [ 2,  6, 10, 14],\n",
       "       [ 3,  7, 11, 15],\n",
       "       [ 4,  8, 12, 16]])"
      ]
     },
     "execution_count": null,
     "metadata": {},
     "output_type": "execute_result"
    }
   ],
   "source": [
    "# 2D array creation\n",
    "A_44 = np.arange(1, 17).reshape(4, 4).transpose()\n",
    "A_44"
   ]
  },
  {
   "cell_type": "code",
   "execution_count": null,
   "metadata": {},
   "outputs": [
    {
     "data": {
      "text/plain": [
       "136"
      ]
     },
     "execution_count": null,
     "metadata": {},
     "output_type": "execute_result"
    }
   ],
   "source": [
    "np.sum(A_44) # sum of all entries of A"
   ]
  },
  {
   "cell_type": "code",
   "execution_count": null,
   "metadata": {},
   "outputs": [
    {
     "data": {
      "text/plain": [
       "array([10, 26, 42, 58])"
      ]
     },
     "execution_count": null,
     "metadata": {},
     "output_type": "execute_result"
    }
   ],
   "source": [
    "np.sum(A_44, axis=0) # sum across dim with index 0 (across rows)"
   ]
  },
  {
   "cell_type": "code",
   "execution_count": null,
   "metadata": {},
   "outputs": [
    {
     "data": {
      "text/plain": [
       "array([28, 32, 36, 40])"
      ]
     },
     "execution_count": null,
     "metadata": {},
     "output_type": "execute_result"
    }
   ],
   "source": [
    "np.sum(A_44, axis=1) # sum across dim with index 1 (across cols)"
   ]
  },
  {
   "cell_type": "code",
   "execution_count": null,
   "metadata": {},
   "outputs": [
    {
     "data": {
      "text/plain": [
       "array([1, 2, 3, 4])"
      ]
     },
     "execution_count": null,
     "metadata": {},
     "output_type": "execute_result"
    }
   ],
   "source": [
    "np.min(A_44, axis=1) # compute minimum across dim with index 1"
   ]
  },
  {
   "cell_type": "markdown",
   "metadata": {},
   "source": [
    "<a id=\"indexing\"></a>"
   ]
  },
  {
   "cell_type": "code",
   "execution_count": null,
   "metadata": {},
   "outputs": [
    {
     "data": {
      "text/plain": [
       "array([[[ 1,  2,  3,  4],\n",
       "        [ 5,  6,  7,  8],\n",
       "        [ 9, 10, 11, 12]],\n",
       "\n",
       "       [[13, 14, 15, 16],\n",
       "        [17, 18, 19, 20],\n",
       "        [21, 22, 23, 24]]])"
      ]
     },
     "execution_count": null,
     "metadata": {},
     "output_type": "execute_result"
    }
   ],
   "source": [
    "# 3D arrays now\n",
    "Q_234 = np.arange(1, 25).reshape((2,3,4))\n",
    "Q_234"
   ]
  },
  {
   "cell_type": "code",
   "execution_count": null,
   "metadata": {},
   "outputs": [
    {
     "data": {
      "text/plain": [
       "array([[ 1,  2,  3,  4],\n",
       "       [ 5,  6,  7,  8],\n",
       "       [ 9, 10, 11, 12]])"
      ]
     },
     "execution_count": null,
     "metadata": {},
     "output_type": "execute_result"
    }
   ],
   "source": [
    "np.min(Q_234, axis=0) # minimum along dim with index 0"
   ]
  },
  {
   "cell_type": "code",
   "execution_count": null,
   "metadata": {},
   "outputs": [
    {
     "data": {
      "text/plain": [
       "array([[ 1,  2,  3,  4],\n",
       "       [13, 14, 15, 16]])"
      ]
     },
     "execution_count": null,
     "metadata": {},
     "output_type": "execute_result"
    }
   ],
   "source": [
    "np.min(Q_234, axis=1)"
   ]
  },
  {
   "cell_type": "code",
   "execution_count": null,
   "metadata": {},
   "outputs": [
    {
     "data": {
      "text/plain": [
       "array([[ 1,  5,  9],\n",
       "       [13, 17, 21]])"
      ]
     },
     "execution_count": null,
     "metadata": {},
     "output_type": "execute_result"
    }
   ],
   "source": [
    "np.min(Q_234, axis=2)"
   ]
  },
  {
   "cell_type": "code",
   "execution_count": null,
   "metadata": {},
   "outputs": [
    {
     "data": {
      "text/plain": [
       "array([ 1, 13])"
      ]
     },
     "execution_count": null,
     "metadata": {},
     "output_type": "execute_result"
    }
   ],
   "source": [
    "np.min(Q_234, axis=(1,2)) # minimum along two dimensions, at index 1 and 2"
   ]
  }
 ],
 "metadata": {
  "kernelspec": {
   "display_name": "python3",
   "language": "python",
   "name": "python3"
  }
 },
 "nbformat": 4,
 "nbformat_minor": 4
}
