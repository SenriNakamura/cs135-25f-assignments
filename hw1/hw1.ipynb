{
 "cells": [
  {
   "cell_type": "markdown",
   "metadata": {},
   "source": [
    "# HW1 : Regression, Cross-Validation, and  Regularization"
   ]
  },
  {
   "cell_type": "code",
   "execution_count": 77,
   "metadata": {},
   "outputs": [],
   "source": [
    "import os\n",
    "import numpy as np\n",
    "import pandas as pd\n",
    " \n",
    "import sklearn.preprocessing\n",
    "import sklearn.pipeline\n",
    "import sklearn.linear_model"
   ]
  },
  {
   "cell_type": "code",
   "execution_count": 78,
   "metadata": {},
   "outputs": [],
   "source": [
    "from matplotlib import pyplot as plt\n",
    "\n",
    "import seaborn as sns\n",
    "#This sets the default style for all figures. \n",
    "sns.set('notebook', font_scale=1.25, style='whitegrid')"
   ]
  },
  {
   "cell_type": "markdown",
   "metadata": {},
   "source": [
    "### Configuration\n",
    "\n",
    "You may need to adjust your data directory to point towards the auto data. "
   ]
  },
  {
   "cell_type": "code",
   "execution_count": 79,
   "metadata": {},
   "outputs": [],
   "source": [
    "SEED = 12345 \n",
    "\n",
    "DATA_DIR = 'data_auto'"
   ]
  },
  {
   "cell_type": "markdown",
   "metadata": {},
   "source": [
    "### Methods for loading dataset"
   ]
  },
  {
   "cell_type": "code",
   "execution_count": 80,
   "metadata": {},
   "outputs": [],
   "source": [
    "def load_2d_arr_from_csv(fname, include_header=False):\n",
    "    x = np.loadtxt(os.path.join(DATA_DIR, fname), delimiter=',', skiprows=1)\n",
    "    assert x.ndim == 2\n",
    "    if include_header:\n",
    "        header_cols = np.loadtxt(os.path.join(DATA_DIR, fname), delimiter=',', dtype=str)[0].tolist()\n",
    "        return x, header_cols\n",
    "    else:\n",
    "        return x\n",
    "    \n",
    "def load_1d_arr_from_csv(fname):\n",
    "    x = np.loadtxt(os.path.join(DATA_DIR, fname), delimiter=',', skiprows=1)\n",
    "    if x.ndim == 1:\n",
    "        return x\n",
    "    else:\n",
    "        raise ValueError(\"Not 1d\")"
   ]
  },
  {
   "cell_type": "markdown",
   "metadata": {},
   "source": [
    "# Load the dataset\n",
    "\n",
    "Predefined 'x' and 'y' arrays for train/valid/test"
   ]
  },
  {
   "cell_type": "code",
   "execution_count": 81,
   "metadata": {},
   "outputs": [],
   "source": [
    "x_tr_MF, xcolnames_F = load_2d_arr_from_csv('x_train.csv', include_header=True)\n",
    "x_va_NF = load_2d_arr_from_csv('x_valid.csv')\n",
    "x_te_PF = load_2d_arr_from_csv('x_test.csv')"
   ]
  },
  {
   "cell_type": "code",
   "execution_count": 82,
   "metadata": {},
   "outputs": [
    {
     "name": "stdout",
     "output_type": "stream",
     "text": [
      "['horsepower', 'weight', 'cylinders', 'displacement']\n"
     ]
    }
   ],
   "source": [
    "print(xcolnames_F)"
   ]
  },
  {
   "cell_type": "code",
   "execution_count": 83,
   "metadata": {},
   "outputs": [
    {
     "name": "stdout",
     "output_type": "stream",
     "text": [
      "[[ 115. 2595.    6.  173.]\n",
      " [ 180. 4380.    8.  350.]\n",
      " [ 150. 4457.    8.  318.]\n",
      " [ 105. 3897.    6.  250.]\n",
      " [ 193. 4732.    8.  304.]]\n"
     ]
    }
   ],
   "source": [
    "print(x_tr_MF[:5])"
   ]
  },
  {
   "cell_type": "code",
   "execution_count": 84,
   "metadata": {},
   "outputs": [],
   "source": [
    "y_tr_M = load_1d_arr_from_csv('y_train.csv')\n",
    "y_va_N = load_1d_arr_from_csv('y_valid.csv')\n",
    "y_te_P = load_1d_arr_from_csv('y_test.csv')"
   ]
  },
  {
   "cell_type": "code",
   "execution_count": 85,
   "metadata": {},
   "outputs": [
    {
     "name": "stdout",
     "output_type": "stream",
     "text": [
      "[[28.8]\n",
      " [16.5]\n",
      " [14. ]\n",
      " [16. ]\n",
      " [ 9. ]]\n"
     ]
    }
   ],
   "source": [
    "print(y_tr_M[:5,np.newaxis])"
   ]
  },
  {
   "cell_type": "code",
   "execution_count": 86,
   "metadata": {},
   "outputs": [
    {
     "data": {
      "text/plain": [
       "46.6"
      ]
     },
     "execution_count": 86,
     "metadata": {},
     "output_type": "execute_result"
    }
   ],
   "source": [
    "y_tr_M.max()"
   ]
  },
  {
   "cell_type": "code",
   "execution_count": 87,
   "metadata": {},
   "outputs": [],
   "source": [
    "Y_MAX = 60.0"
   ]
  },
  {
   "cell_type": "markdown",
   "metadata": {},
   "source": [
    "## Load completed code"
   ]
  },
  {
   "cell_type": "code",
   "execution_count": 88,
   "metadata": {},
   "outputs": [],
   "source": [
    "from performance_metrics import calc_root_mean_squared_error\n",
    "from cross_validation import train_models_and_calc_scores_for_n_fold_cv"
   ]
  },
  {
   "cell_type": "markdown",
   "metadata": {},
   "source": [
    "## Define useful plotting functions"
   ]
  },
  {
   "cell_type": "code",
   "execution_count": 89,
   "metadata": {},
   "outputs": [],
   "source": [
    "def plot_train_and_valid_error_vs_hyper(\n",
    "        hyper_list, err_tr_list=None, err_va_list=None,\n",
    "        ymax=40,\n",
    "        leg_loc='upper right',\n",
    "        xlabel='polynomial degree',\n",
    "        ylabel='RMSE'):\n",
    "    if err_va_list is not None:\n",
    "        plt.plot(hyper_list, err_va_list, 'rs-', label='valid');\n",
    "    if err_tr_list is not None:\n",
    "        plt.plot(hyper_list, err_tr_list, 'bd:', label='train');\n",
    "    plt.ylim([0, ymax]);\n",
    "    plt.legend(loc=leg_loc);\n",
    "    plt.xlabel(xlabel);\n",
    "    plt.ylabel(ylabel);"
   ]
  },
  {
   "cell_type": "markdown",
   "metadata": {},
   "source": [
    "## Method to sanitize predictions\n",
    "\n",
    "We are predicting MPG, which should \n",
    "* (1) always be positive, and\n",
    "* (2) will probably never exceed 120% of the largest value we see in train data"
   ]
  },
  {
   "cell_type": "code",
   "execution_count": 90,
   "metadata": {},
   "outputs": [],
   "source": [
    "def sanitize(yhat_N):\n",
    "    yhat_N = np.maximum(yhat_N, 0)\n",
    "    yhat_N = np.minimum(yhat_N, Y_MAX)\n",
    "    return yhat_N"
   ]
  },
  {
   "cell_type": "code",
   "execution_count": 91,
   "metadata": {},
   "outputs": [],
   "source": [
    "bad_yhat_N = np.asarray([-10, -1, 0, 1, 5, 10, 50, 55, 60, 65])"
   ]
  },
  {
   "cell_type": "code",
   "execution_count": 92,
   "metadata": {},
   "outputs": [
    {
     "data": {
      "text/plain": [
       "array([-10,  -1,   0,   1,   5,  10,  50,  55,  60,  65])"
      ]
     },
     "execution_count": 92,
     "metadata": {},
     "output_type": "execute_result"
    }
   ],
   "source": [
    "bad_yhat_N"
   ]
  },
  {
   "cell_type": "code",
   "execution_count": 93,
   "metadata": {},
   "outputs": [
    {
     "data": {
      "text/plain": [
       "array([ 0.,  0.,  0.,  1.,  5., 10., 50., 55., 60., 60.])"
      ]
     },
     "execution_count": 93,
     "metadata": {},
     "output_type": "execute_result"
    }
   ],
   "source": [
    "sanitize(bad_yhat_N)"
   ]
  },
  {
   "cell_type": "markdown",
   "metadata": {},
   "source": [
    "## Methods for building pipelines"
   ]
  },
  {
   "cell_type": "markdown",
   "metadata": {},
   "source": [
    "Code for Problem 1"
   ]
  },
  {
   "cell_type": "code",
   "execution_count": 94,
   "metadata": {},
   "outputs": [],
   "source": [
    "def make_pipeline__unpenalized_linear_regr_with_poly_feats(degree=1):\n",
    "    pipeline = sklearn.pipeline.Pipeline(\n",
    "        steps=[\n",
    "         ('rescaler', sklearn.preprocessing.MinMaxScaler()),\n",
    "         ('poly_transformer', sklearn.preprocessing.PolynomialFeatures(degree=degree, include_bias=False)),\n",
    "         ('linear_regr', sklearn.linear_model.LinearRegression()),\n",
    "        ])\n",
    "    \n",
    "    # Return the constructed pipeline\n",
    "    # We can treat it as if it has a 'regression' API\n",
    "    # e.g. a fit and a predict method\n",
    "    return pipeline"
   ]
  },
  {
   "cell_type": "markdown",
   "metadata": {},
   "source": [
    "Code for Problem 2"
   ]
  },
  {
   "cell_type": "code",
   "execution_count": 95,
   "metadata": {},
   "outputs": [],
   "source": [
    "def make_pipeline__ridge_linear_regr_with_poly_feats(degree=1, alpha=1.0):\n",
    "    pipeline = sklearn.pipeline.Pipeline(\n",
    "        steps=[\n",
    "         ('rescaler', sklearn.preprocessing.MinMaxScaler()),\n",
    "         ('poly_transformer', sklearn.preprocessing.PolynomialFeatures(degree=degree, include_bias=False)),\n",
    "         ('linear_regr', sklearn.linear_model.Ridge(alpha=alpha)),\n",
    "        ])\n",
    "\n",
    "    # Return the constructed pipeline\n",
    "    # We can treat it as if it has a 'regression' API\n",
    "    # e.g. a fit and a predict method\n",
    "    return pipeline"
   ]
  },
  {
   "cell_type": "markdown",
   "metadata": {},
   "source": [
    "## Method to inspect learned weights"
   ]
  },
  {
   "cell_type": "code",
   "execution_count": 96,
   "metadata": {},
   "outputs": [],
   "source": [
    "def pretty_print_learned_weights(pipeline, xcolnames_F):\n",
    "    ''' Print the learned parameters of given pipeline\n",
    "    '''\n",
    "    my_lin_regr = pipeline.named_steps['linear_regr']\n",
    "\n",
    "    feat_names = pipeline.named_steps['poly_transformer'].get_feature_names_out()\n",
    "    coef_values = my_lin_regr.coef_\n",
    "\n",
    "    print(\"intercept: %.2f\" % (my_lin_regr.intercept_))\n",
    "    print(\"\")\n",
    "\n",
    "    print(\"%9s   %s\" % (\"weight\", \"feature var\"))\n",
    "    for feat, coef in zip(feat_names, coef_values):\n",
    "        print(\"% 9.2f * %s\" % (coef, feat))\n",
    "    \n",
    "    print(\"where \")\n",
    "    for ff, colname in enumerate(xcolnames_F):\n",
    "        print(\"x%d = %s\" % (ff, colname))"
   ]
  },
  {
   "cell_type": "markdown",
   "metadata": {},
   "source": [
    "# Problem 0: Simple Baseline: Guess-the-Training-Set-Mean"
   ]
  },
  {
   "cell_type": "markdown",
   "metadata": {},
   "source": [
    "It is a good engineering practice to try simple approaches before complex models.\n",
    "\n",
    "Here's a very simple regression model: given a training set, compute its mean and store that as $\\bar{y}$.\n",
    "\n",
    "Then, define the prediction function of this model as\n",
    "\n",
    "$$\n",
    "\\hat{y}( x_* ) = \\bar{y}\n",
    "$$\n",
    "\n",
    "That is, no matter what feature vector $x_*$ is provided, always guess the train-set-mean $\\bar{y}$.\n",
    "\n",
    "### Implementation Step 0A\n",
    "\n",
    "Determine the mean y-value of the train set, using arrays `x_tr_MF` and `y_tr_M`."
   ]
  },
  {
   "cell_type": "code",
   "execution_count": 97,
   "metadata": {},
   "outputs": [
    {
     "name": "stdout",
     "output_type": "stream",
     "text": [
      "Mean of y_train: 23.48125\n"
     ]
    }
   ],
   "source": [
    "y_tr_M = load_1d_arr_from_csv('y_train.csv')\n",
    "ybar = y_tr_M.mean()\n",
    "print(\"Mean of y_train:\", ybar)"
   ]
  },
  {
   "cell_type": "markdown",
   "metadata": {},
   "source": [
    "### Implementation Step 0B\n",
    "\n",
    "Compute the RMSE this baseline gets on the train set, val set, and test set\n"
   ]
  },
  {
   "cell_type": "code",
   "execution_count": 98,
   "metadata": {},
   "outputs": [
    {
     "name": "stdout",
     "output_type": "stream",
     "text": [
      "Train RMSE: 8.231074409668523\n",
      "Valid RMSE: 7.592104554239227\n",
      "Test RMSE: 7.104481090304907\n"
     ]
    }
   ],
   "source": [
    "ybar = y_tr_M.mean()\n",
    "y_va_N = load_1d_arr_from_csv('y_valid.csv')\n",
    "y_te_P = load_1d_arr_from_csv('y_test.csv')\n",
    "\n",
    "# baseline predictions (constant = mean)\n",
    "yhat_tr_M = np.full_like(y_tr_M, ybar)\n",
    "yhat_va_M = np.full_like(y_va_N, ybar)\n",
    "yhat_te_M = np.full_like(y_te_P, ybar)\n",
    "\n",
    "# use helper from performance_metrics\n",
    "baseline_err_tr = calc_root_mean_squared_error(y_tr_M, yhat_tr_M)\n",
    "baseline_err_va = calc_root_mean_squared_error(y_va_N, yhat_va_M)\n",
    "baseline_err_te = calc_root_mean_squared_error(y_te_P, yhat_te_M)\n",
    "\n",
    "print(\"Train RMSE:\", baseline_err_tr)\n",
    "print(\"Valid RMSE:\", baseline_err_va)\n",
    "print(\"Test RMSE:\", baseline_err_te)"
   ]
  },
  {
   "cell_type": "markdown",
   "metadata": {},
   "source": [
    "# Problem 1: Polynomial Degree Selection on Fixed Validation Set\n"
   ]
  },
  {
   "cell_type": "markdown",
   "metadata": {},
   "source": [
    "### Implementation Step 1A\n",
    "    \n",
    "Fit a linear regression model to a polynomial feature transform when degree = 1\n",
    "\n"
   ]
  },
  {
   "cell_type": "code",
   "execution_count": 102,
   "metadata": {},
   "outputs": [
    {
     "name": "stdout",
     "output_type": "stream",
     "text": [
      "{'deg': 1, 'rmse_tr': 4.2373133518909745, 'rmse_va': 4.3603521784039865, 'rmse_te': 4.18644548848854}\n"
     ]
    }
   ],
   "source": [
    "x_va_NF = load_2d_arr_from_csv('x_valid.csv')\n",
    "x_te_PF = load_2d_arr_from_csv('x_test.csv')\n",
    "\n",
    "def make_pipeline__unpenalized_linear_regr_with_poly_feats(degree=1):\n",
    "    pipeline = sklearn.pipeline.Pipeline(\n",
    "        steps=[\n",
    "         ('rescaler', sklearn.preprocessing.MinMaxScaler()),\n",
    "         ('poly_transformer', sklearn.preprocessing.PolynomialFeatures(degree=degree, include_bias=False)),\n",
    "         ('linear_regr', sklearn.linear_model.LinearRegression()),\n",
    "        ])\n",
    "    \n",
    "    # Return the constructed pipeline\n",
    "    # We can treat it as if it has a 'regression' API\n",
    "    # e.g. a fit and a predict method\n",
    "    return pipeline\n",
    "\n",
    "# Build pipeline (scaler -> PolynomialFeatures(deg=1) -> LinearRegression)\n",
    "pipe_deg1 = make_pipeline__unpenalized_linear_regr_with_poly_feats(degree=1)\n",
    "\n",
    "# Fit on training data\n",
    "pipe_deg1.fit(x_tr_MF, y_tr_M)\n",
    "\n",
    "# Predict on splits\n",
    "yhat_tr = pipe_deg1.predict(x_tr_MF)\n",
    "yhat_va = pipe_deg1.predict(x_va_NF)\n",
    "yhat_te = pipe_deg1.predict(x_te_PF)\n",
    "\n",
    "# RMSE using provided helper\n",
    "rmse_tr = calc_root_mean_squared_error(y_tr_M, yhat_tr)\n",
    "rmse_va = calc_root_mean_squared_error(y_va_N, yhat_va)\n",
    "rmse_te = calc_root_mean_squared_error(y_te_P, yhat_te)\n",
    "\n",
    "print({\"deg\": 1, \"rmse_tr\": rmse_tr, \"rmse_va\": rmse_va, \"rmse_te\": rmse_te})\n"
   ]
  },
  {
   "cell_type": "markdown",
   "metadata": {},
   "source": [
    "### Short Answer 1a\n",
    "\n",
    "Provide the weight coefficient values (to 2 decimal places) for your degree = 1 model"
   ]
  },
  {
   "cell_type": "code",
   "execution_count": null,
   "metadata": {},
   "outputs": [
    {
     "name": "stdout",
     "output_type": "stream",
     "text": [
      "['horsepower', 'weight', 'cylinders', 'displacement']\n"
     ]
    }
   ],
   "source": [
    "# Hint: The names of the original F=4 features are already in your workspace\n",
    "print(xcolnames_F)"
   ]
  },
  {
   "cell_type": "code",
   "execution_count": 103,
   "metadata": {},
   "outputs": [
    {
     "name": "stdout",
     "output_type": "stream",
     "text": [
      "intercept: 34.07\n",
      "\n",
      "   weight   feature var\n",
      "   -10.43 * x0\n",
      "   -18.23 * x1\n",
      "    -1.15 * x2\n",
      "     0.58 * x3\n",
      "where \n",
      "x0 = horsepower\n",
      "x1 = weight\n",
      "x2 = cylinders\n",
      "x3 = displacement\n"
     ]
    }
   ],
   "source": [
    "pretty_print_learned_weights(pipe_deg1, xcolnames_F)"
   ]
  },
  {
   "cell_type": "markdown",
   "metadata": {},
   "source": [
    "From these values, which feature has the highest positive impact on MPG? Which has the highest negative impact? Do these make sense? It can be helpful to make plots of the training data to understand the relationships between columns. Only include in your report plots that help explain your conclusions. \n",
    "\n",
    "*Hint*: [Engine displacement](https://en.wikipedia.org/wiki/Engine_displacement) refers to the overall volume of air that can move through the engine. Larger engine means larger displacement."
   ]
  },
  {
   "cell_type": "code",
   "execution_count": null,
   "metadata": {},
   "outputs": [],
   "source": [
    "# WRITE ANSWER IN YOUR REPORT!"
   ]
  },
  {
   "cell_type": "markdown",
   "metadata": {},
   "source": [
    "### Implementation 1B\n",
    "\n",
    "Fit models with degree 2 and 4. \n",
    "\n",
    "Inspect the overall *number* of learned weights, as well as the values of the weights."
   ]
  },
  {
   "cell_type": "code",
   "execution_count": null,
   "metadata": {},
   "outputs": [
    {
     "name": "stdout",
     "output_type": "stream",
     "text": [
      "degree=2\n",
      "degree=4\n"
     ]
    }
   ],
   "source": [
    "for degree in [2, 4]:\n",
    "    print(f\"degree={degree}\")\n",
    "    # TODO create a pipeline using features with current degree value\n",
    "    \n",
    "    # TODO fit this pipeline on provided training data\n",
    "\n",
    "    # TODO call pretty_print_learned_weights\n"
   ]
  },
  {
   "cell_type": "markdown",
   "metadata": {},
   "source": [
    "### Short Answer 1b\n",
    "\n",
    "What do you notice about the numerical values of weights for degree 4 compared to those for degree 1?\n"
   ]
  },
  {
   "cell_type": "code",
   "execution_count": null,
   "metadata": {},
   "outputs": [],
   "source": [
    "# WRITE ANSWER IN YOUR REPORT!"
   ]
  },
  {
   "cell_type": "markdown",
   "metadata": {},
   "source": [
    "### Implementation 1C\n",
    "\n",
    "We'll now perform a \"complete\" experiment for our `fv` (fixed validation set) pipeline with unpenalized linear regression.\n",
    "\n",
    "We want to try all possible degrees in [1, 2, 3, 4, 5, 6, 7]\n",
    "\n",
    "For each one, we'll build a fresh pipeline, fit the model of specified degree, and record the *train* error and the *validation* error."
   ]
  },
  {
   "cell_type": "code",
   "execution_count": null,
   "metadata": {},
   "outputs": [],
   "source": [
    "degree_list = [1, 2, 3, 4, 5, 6, 7]\n",
    "fv_err_tr_list = []\n",
    "fv_err_va_list = []\n",
    "\n",
    "fv_pipeline_list = []\n",
    "for degree in degree_list:\n",
    "\n",
    "    # TODO create a pipeline using features with current degree value\n",
    "    # TODO train this pipeline on provided training data\n",
    "    \n",
    "    # Compute training error\n",
    "    yhat_tr_M = 0.0  # TODO fixme, be sure to sanitize predictions\n",
    "    yhat_va_N = 0.0  # TODO fixme, be sure to sanitize predictions\n",
    "\n",
    "    err_tr = 13.0 # TODO fixme\n",
    "    err_va = 7.0 # TODO fixme\n",
    "\n",
    "    fv_err_tr_list.append(err_tr)\n",
    "    fv_err_va_list.append(err_va)\n",
    "    \n",
    "    # TODO store current pipeline for future use"
   ]
  },
  {
   "cell_type": "markdown",
   "metadata": {},
   "source": [
    "### Figure 1: Error vs degree"
   ]
  },
  {
   "cell_type": "code",
   "execution_count": null,
   "metadata": {},
   "outputs": [
    {
     "data": {
      "image/png": "[encoded data removed]",
      "text/plain": [
       "<Figure size 640x480 with 1 Axes>"
      ]
     },
     "metadata": {},
     "output_type": "display_data"
    }
   ],
   "source": [
    "plot_train_and_valid_error_vs_hyper(\n",
    "    degree_list, fv_err_tr_list, fv_err_va_list, leg_loc='upper left');\n",
    "plt.title('RMSE vs. Degree');"
   ]
  },
  {
   "cell_type": "markdown",
   "metadata": {},
   "source": [
    "### Short Answer 1c"
   ]
  },
  {
   "cell_type": "markdown",
   "metadata": {},
   "source": [
    "What degree is needed to bring the number of transformed features above the number of training data, $G > N$? Does training the model at that degree behave how we would expect, given the theory explored in class?"
   ]
  },
  {
   "cell_type": "code",
   "execution_count": null,
   "metadata": {},
   "outputs": [],
   "source": [
    "# WRITE ANSWER IN YOUR REPORT!"
   ]
  },
  {
   "cell_type": "markdown",
   "metadata": {},
   "source": [
    "### Implementation 1D: Score on the test set using the chosen model\n",
    "\n",
    "Select the model hyperparameters that *minimize* your fixed validation set error. Using your already-trained LinearRegression model with these best hyperparameters, compute error on the *test* set. Save this test set error value for later."
   ]
  },
  {
   "cell_type": "code",
   "execution_count": null,
   "metadata": {},
   "outputs": [
    {
     "name": "stdout",
     "output_type": "stream",
     "text": [
      "Selected Parameters:\n",
      "TODO\n",
      "Fixed validation set estimate of heldout error:\n",
      "TODO\n",
      "Error on the test-set:\n",
      "TODO\n"
     ]
    }
   ],
   "source": [
    "print(\"Selected Parameters:\")\n",
    "print(\"TODO\")\n",
    "print(\"Fixed validation set estimate of heldout error:\")\n",
    "print(\"TODO\")\n",
    "print(\"Error on the test-set:\")\n",
    "print(\"TODO\")"
   ]
  },
  {
   "cell_type": "code",
   "execution_count": null,
   "metadata": {},
   "outputs": [],
   "source": [
    "# TODO store score on test set for later\n",
    "\n",
    "model1_err_tr = 3.1 # TODO fixme\n",
    "model1_err_va = 4.1 # TODO fixme\n",
    "model1_err_te = 5.1 # TODO fixme"
   ]
  },
  {
   "cell_type": "markdown",
   "metadata": {},
   "source": [
    "### Implementation 1E\n",
    "\n",
    "We'll now try to repeat the above *without* the MinMaxScalar preprocessing step. \n",
    "\n",
    "Part 1:\n",
    "\n",
    "* Make a copy of make_pipeline__unpenalized_linear_regr_with_poly_feats, call it make_pipeline__bad\n",
    "* Edit the function so it does not perform MinMaxScalar, but does everything else as before.\n",
    "\n",
    "Part 2:\n",
    "\n",
    "* Fit a pipeline without preprocessing at each degree value [1, 2, ... 7]\n",
    "* Record the train error at each degree value\n",
    "\n",
    "\n"
   ]
  },
  {
   "cell_type": "markdown",
   "metadata": {},
   "source": [
    "### Short Answer 1e\n",
    "\n",
    "What happens to train error as a function of degree when the MinMaxScalar preprocessing step is omitted? Can we make sense of this trend using the concept of overfitting, or is there some other explanation? For a LR model with polynomial features and degree above 2, why is it useful to rescale each feature column to be in the interval 0 to 1?\n"
   ]
  },
  {
   "cell_type": "code",
   "execution_count": null,
   "metadata": {},
   "outputs": [],
   "source": [
    "# WRITE ANSWER IN YOUR REPORT!"
   ]
  },
  {
   "cell_type": "markdown",
   "metadata": {},
   "source": [
    "# Problem 2: Alpha Selection on Fixed Val Set"
   ]
  },
  {
   "cell_type": "code",
   "execution_count": null,
   "metadata": {},
   "outputs": [
    {
     "name": "stdout",
     "output_type": "stream",
     "text": [
      "[1.e-10 1.e-08 1.e-06 1.e-04 1.e-02 1.e+00 1.e+02 1.e+04 1.e+06]\n"
     ]
    }
   ],
   "source": [
    "my_degree = 4\n",
    "alpha_list = np.asarray([1.e-10, 1.e-08, 1.e-06, 1.e-04, 1.e-02, 1.e+00, 1.e+02, 1.e+04, 1.e+06])\n",
    "print(alpha_list)"
   ]
  },
  {
   "cell_type": "markdown",
   "metadata": {},
   "source": [
    "### Implementation 2A"
   ]
  },
  {
   "cell_type": "code",
   "execution_count": null,
   "metadata": {},
   "outputs": [],
   "source": [
    "fv2_err_tr_list = []\n",
    "fv2_err_va_list = []\n",
    "fv2_pipeline_list = []\n",
    "\n",
    "for alpha in alpha_list:\n",
    "\n",
    "    # TODO create a pipeline using features with current degree value\n",
    "    # TODO train this pipeline on provided training data\n",
    "\n",
    "    yhat_tr_M = 0.0 # TODO fixme, be sure to call predict and then sanitize\n",
    "    yhat_va_N = 0.0 # TODO fixme, be sure to call predict and then sanitize\n",
    "    assert np.all(yhat_va_N >= 0.0)\n",
    "    assert np.all(yhat_va_N <= Y_MAX)\n",
    "    \n",
    "    err_tr = 6.0 # TODO fixme\n",
    "    err_va = 7.0 # TODO fixme\n",
    "\n",
    "    fv2_err_tr_list.append(err_tr)\n",
    "    fv2_err_va_list.append(err_va)\n",
    "\n",
    "    # TODO store current pipeline for future use"
   ]
  },
  {
   "cell_type": "markdown",
   "metadata": {},
   "source": [
    "### Figure 2: Error vs alpha\n",
    "\n",
    "Make a line plot of mean-squared error on y-axis vs. alpha on x-axis."
   ]
  },
  {
   "cell_type": "code",
   "execution_count": null,
   "metadata": {},
   "outputs": [
    {
     "data": {
      "image/png": "[encoded data removed]",
      "text/plain": [
       "<Figure size 640x480 with 1 Axes>"
      ]
     },
     "metadata": {},
     "output_type": "display_data"
    }
   ],
   "source": [
    "plot_train_and_valid_error_vs_hyper(\n",
    "    alpha_list, fv2_err_tr_list, fv2_err_va_list,\n",
    "    xlabel='alpha (L2 penalty)', leg_loc='upper left');\n",
    "plt.gca().set_ylim([0, 10]);\n",
    "plt.gca().set_xscale('log');\n",
    "plt.title('Error vs. Alpha');"
   ]
  },
  {
   "cell_type": "markdown",
   "metadata": {},
   "source": [
    "### Implementation Step 2B\n",
    "\n",
    "Select the model hyperparameters that *minimize* your fixed validation set error. Using your already-trained model with these best hyperparameters, compute error on the *test* set. \n"
   ]
  },
  {
   "cell_type": "code",
   "execution_count": null,
   "metadata": {},
   "outputs": [
    {
     "name": "stdout",
     "output_type": "stream",
     "text": [
      "Selected Parameters:\n",
      "TODO\n",
      "Fixed validation set estimate of heldout error:\n",
      "TODO\n",
      "Error on the test-set:\n",
      "TODO\n"
     ]
    }
   ],
   "source": [
    "print(\"Selected Parameters:\")\n",
    "print(\"TODO\")\n",
    "print(\"Fixed validation set estimate of heldout error:\")\n",
    "print(\"TODO\")\n",
    "print(\"Error on the test-set:\")\n",
    "print(\"TODO\")"
   ]
  },
  {
   "cell_type": "code",
   "execution_count": null,
   "metadata": {},
   "outputs": [],
   "source": [
    "# TODO store errors on test set for later\n",
    "\n",
    "model2_err_tr = 3.002 # TODO fixme\n",
    "model2_err_va = 4.002 # TODO fixme\n",
    "model2_err_te = 5.002 # TODO fixme"
   ]
  },
  {
   "cell_type": "markdown",
   "metadata": {},
   "source": [
    "### Short Answer 2a in Report\n",
    "\n",
    "Inspect the learned weight parameters of your chosen degree-4 model.\n",
    "\n",
    "What do you notice about the relative magnitudes compared to the degree-4 model from Problem 1?"
   ]
  },
  {
   "cell_type": "code",
   "execution_count": null,
   "metadata": {},
   "outputs": [],
   "source": [
    "# WRITE ANSWER IN REPORT!"
   ]
  },
  {
   "cell_type": "markdown",
   "metadata": {},
   "source": [
    "### Short Answer 2b\n",
    "\n",
    "*See instructions on website*\n",
    "\n"
   ]
  },
  {
   "cell_type": "markdown",
   "metadata": {},
   "source": [
    "# Data preprocessing for Problem 3"
   ]
  },
  {
   "cell_type": "markdown",
   "metadata": {},
   "source": [
    "For this problem, you'll again use the provided training set and validation sets. However, you'll *merge* these into a large \"development\" set that contains 292 examples total. We can use all 292 examples to develop models."
   ]
  },
  {
   "cell_type": "code",
   "execution_count": null,
   "metadata": {},
   "outputs": [
    {
     "name": "stdout",
     "output_type": "stream",
     "text": [
      "(292, 4)\n"
     ]
    }
   ],
   "source": [
    "x_trva_LF = np.vstack([x_tr_MF, x_va_NF])\n",
    "y_trva_L = np.hstack([y_tr_M, y_va_N])\n",
    "\n",
    "print(x_trva_LF.shape)"
   ]
  },
  {
   "cell_type": "markdown",
   "metadata": {},
   "source": [
    "# Problem 3: Cross Validation for Polynomial Feature Regression"
   ]
  },
  {
   "cell_type": "markdown",
   "metadata": {},
   "source": [
    "### Implementation step 3A\n",
    "\n",
    "For each possible `alpha` value as well as each possible polynomial degree, train and evaluate a `Ridge` regression model across the entire train+validation set using 10-fold cross validation. Use the CV methods you implemented in `cross_validation.py`. For each possible hyperparameter configuration (alpha value and degree value), your 10-fold CV procedure will give you an estimate of the training error and heldout validation error (averaged across all folds). \n"
   ]
  },
  {
   "cell_type": "code",
   "execution_count": null,
   "metadata": {},
   "outputs": [],
   "source": [
    "K = 10 # num folds of CV\n",
    "degree_list = [1, 2, 3, 4, 5, 6, 7]\n",
    "alpha_list = np.logspace(-10, 6, 17)\n",
    "\n",
    "ridge_param_list = []\n",
    "for alpha in alpha_list:\n",
    "    for degree in degree_list:\n",
    "        ridge_param_list.append(dict(degree=degree, alpha=alpha))\n",
    "        \n",
    "cv_train_err_list = []\n",
    "cv_valid_err_list = []\n",
    "for param in ridge_param_list:\n",
    "    # TODO make pipeline\n",
    "    \n",
    "    # TODO call your function to train a separate model for each fold and return train and valid errors\n",
    "    # Don't forget to pass random_state = SEED (where SEED is defined above) so its reproducible\n",
    "    # tr_error_K, valid_error_K = train_models_and_calc_scores_for_n_fold_cv() # TODO\n",
    "\n",
    "    err_tr = 6.0 # TODO fixme, compute average error across all train folds\n",
    "    err_va = 7.0 # TODO fixme, compute average error across all heldout folds\n",
    "    \n",
    "    cv_train_err_list.append(err_tr)\n",
    "    cv_valid_err_list.append(err_va)"
   ]
  },
  {
   "cell_type": "markdown",
   "metadata": {},
   "source": [
    "### Implementation step 3B\n",
    "\n",
    "Select the model hyperparameters that *minimize* your estimated cross-validation error. Using these best hyperparameters, retrain the model using the full development set (concatenating the predefined training and validation sets). Then compute that (retrained) model's error on the test set.\n",
    "\n",
    "Save this test set error value for later."
   ]
  },
  {
   "cell_type": "code",
   "execution_count": null,
   "metadata": {},
   "outputs": [],
   "source": [
    "# TODO"
   ]
  },
  {
   "cell_type": "code",
   "execution_count": null,
   "metadata": {},
   "outputs": [
    {
     "name": "stdout",
     "output_type": "stream",
     "text": [
      "Selected Parameters:\n",
      "TODO\n",
      "10-fold CV estimate of heldout error:\n",
      "TODO\n",
      "Error on the test-set:\n",
      "TODO\n"
     ]
    }
   ],
   "source": [
    "print(\"Selected Parameters:\")\n",
    "print(\"TODO\")\n",
    "print(\"10-fold CV estimate of heldout error:\")\n",
    "print(\"TODO\")\n",
    "print(\"Error on the test-set:\")\n",
    "print(\"TODO\")"
   ]
  },
  {
   "cell_type": "code",
   "execution_count": null,
   "metadata": {},
   "outputs": [],
   "source": [
    "# TODO store score on test set for later\n",
    "\n",
    "model3_err_tr = 3.0 # TODO fixme\n",
    "model3_err_va = 4.0 # TODO fixme\n",
    "model3_err_te = 5.0 # TODO fixme"
   ]
  },
  {
   "cell_type": "markdown",
   "metadata": {},
   "source": [
    "## Table 3 : Comparing pipelines on test set"
   ]
  },
  {
   "cell_type": "code",
   "execution_count": null,
   "metadata": {},
   "outputs": [],
   "source": [
    "result_row_list = []\n",
    "result_row_list.append(\n",
    "    dict(\n",
    "    name='predict mean of train ys',\n",
    "    hypers='',\n",
    "    testRMSE=baseline_err_te,\n",
    "    ))\n",
    "result_row_list.append(\n",
    "    dict(\n",
    "    name='LR deg=best-on-val',\n",
    "    hypers='TODO FILL BEST VALS',\n",
    "    testRMSE=model1_err_te,\n",
    "    ))\n",
    "result_row_list.append(\n",
    "    dict(\n",
    "    name='ridgeLR deg=4 alph=best-on-val',\n",
    "    hypers='TODO FILL BEST VALS',\n",
    "    testRMSE=model2_err_te,\n",
    "    ))\n",
    "result_row_list.append(\n",
    "    dict(\n",
    "    name='ridgeLR deg=best-on-CV alph=best-on-CV',\n",
    "    hypers='TODO FILL BEST VALS',\n",
    "    testRMSE=model3_err_te,\n",
    "    ))\n",
    "\n"
   ]
  },
  {
   "cell_type": "code",
   "execution_count": null,
   "metadata": {},
   "outputs": [
    {
     "data": {
      "text/html": [
       "<div>\n",
       "<style scoped>\n",
       "    .dataframe tbody tr th:only-of-type {\n",
       "        vertical-align: middle;\n",
       "    }\n",
       "\n",
       "    .dataframe tbody tr th {\n",
       "        vertical-align: top;\n",
       "    }\n",
       "\n",
       "    .dataframe thead th {\n",
       "        text-align: right;\n",
       "    }\n",
       "</style>\n",
       "<table border=\"1\" class=\"dataframe\">\n",
       "  <thead>\n",
       "    <tr style=\"text-align: right;\">\n",
       "      <th></th>\n",
       "      <th>name</th>\n",
       "      <th>hypers</th>\n",
       "      <th>testRMSE</th>\n",
       "    </tr>\n",
       "  </thead>\n",
       "  <tbody>\n",
       "    <tr>\n",
       "      <th>0</th>\n",
       "      <td>predict mean of train ys</td>\n",
       "      <td></td>\n",
       "      <td>5.500</td>\n",
       "    </tr>\n",
       "    <tr>\n",
       "      <th>1</th>\n",
       "      <td>LR deg=best-on-val</td>\n",
       "      <td>TODO FILL BEST VALS</td>\n",
       "      <td>5.100</td>\n",
       "    </tr>\n",
       "    <tr>\n",
       "      <th>2</th>\n",
       "      <td>ridgeLR deg=4 alph=best-on-val</td>\n",
       "      <td>TODO FILL BEST VALS</td>\n",
       "      <td>5.002</td>\n",
       "    </tr>\n",
       "    <tr>\n",
       "      <th>3</th>\n",
       "      <td>ridgeLR deg=best-on-CV alph=best-on-CV</td>\n",
       "      <td>TODO FILL BEST VALS</td>\n",
       "      <td>5.000</td>\n",
       "    </tr>\n",
       "  </tbody>\n",
       "</table>\n",
       "</div>"
      ],
      "text/plain": [
       "                                     name               hypers  testRMSE\n",
       "0                predict mean of train ys                          5.500\n",
       "1                      LR deg=best-on-val  TODO FILL BEST VALS     5.100\n",
       "2          ridgeLR deg=4 alph=best-on-val  TODO FILL BEST VALS     5.002\n",
       "3  ridgeLR deg=best-on-CV alph=best-on-CV  TODO FILL BEST VALS     5.000"
      ]
     },
     "execution_count": 70,
     "metadata": {},
     "output_type": "execute_result"
    }
   ],
   "source": [
    "pd.set_option('display.precision', 3)\n",
    "result_df = pd.DataFrame(result_row_list)\n",
    "result_df"
   ]
  },
  {
   "cell_type": "code",
   "execution_count": null,
   "metadata": {},
   "outputs": [],
   "source": []
  }
 ],
 "metadata": {
  "kernelspec": {
   "display_name": "cs135_25f_env",
   "language": "python",
   "name": "python3"
  },
  "language_info": {
   "codemirror_mode": {
    "name": "ipython",
    "version": 3
   },
   "file_extension": ".py",
   "mimetype": "text/x-python",
   "name": "python",
   "nbconvert_exporter": "python",
   "pygments_lexer": "ipython3",
   "version": "3.11.13"
  }
 },
 "nbformat": 4,
 "nbformat_minor": 4
}
