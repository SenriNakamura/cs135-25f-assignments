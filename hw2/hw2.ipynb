{
 "cells": [
  {
   "cell_type": "markdown",
   "metadata": {},
   "source": [
    "# HW2 for CS 135 in Fall 2025\n",
    "\n",
    "Instructions:\n",
    "<https://www.cs.tufts.edu/cs/135/2025s/hw2.html>\n",
    "\n",
    "Instructions on webpage should be considered *authoritative*. Any instructions here in this notebook are provided to be extra helpful, but when in doubt follow the webpage instructions.\n",
    "\n",
    "This notebook is specifically for the report related to Problem 1.\n",
    "\n",
    "# Problem 1: Binary Classifier for Cancer-Risk Screening "
   ]
  },
  {
   "cell_type": "markdown",
   "metadata": {},
   "source": [
    "### Prereq\n",
    "\n",
    "* You will need to finish **Code Task** for **Problem 1** before working on this notebook. \n",
    "\n",
    "### Import Libraries"
   ]
  },
  {
   "cell_type": "code",
   "execution_count": null,
   "metadata": {},
   "outputs": [],
   "source": [
    "import os\n",
    "import numpy as np\n",
    "import pandas as pd\n",
    "\n",
    "import sklearn.linear_model\n",
    "import sklearn.metrics"
   ]
  },
  {
   "cell_type": "code",
   "execution_count": null,
   "metadata": {},
   "outputs": [],
   "source": [
    "# Plotting libraries\n",
    "import matplotlib\n",
    "import matplotlib.pyplot as plt\n",
    "\n",
    "plt.style.use('seaborn-v0_8') # pretty matplotlib plots\n",
    "\n",
    "import seaborn as sns\n",
    "sns.set('notebook', style='whitegrid', font_scale=1.25)\n",
    "\n",
    "# Autoload changes in other files.\n",
    "# Avoids restarting the Jupyter kernel each time you make a change to the imported code.\n",
    "%load_ext autoreload\n",
    "%autoreload 2"
   ]
  },
  {
   "cell_type": "markdown",
   "metadata": {},
   "source": [
    "# Import student-edited code \n",
    "\n",
    "Remember, you should have *completed* the Code Tasks for Problem 1 first."
   ]
  },
  {
   "cell_type": "code",
   "execution_count": null,
   "metadata": {},
   "outputs": [],
   "source": [
    "if not os.path.exists('binary_metrics.py'):\n",
    "    raise ImportError(\"CANNOT FIND binary_metrics.py. Make sure you run this notebook in same directory as your .py files.\")"
   ]
  },
  {
   "cell_type": "code",
   "execution_count": null,
   "metadata": {},
   "outputs": [],
   "source": [
    "from binary_metrics import (\n",
    "    calc_ACC, calc_TPR, calc_TNR)"
   ]
  },
  {
   "cell_type": "markdown",
   "metadata": {},
   "source": [
    "# Import helper code (will work as provided, no edits needed)"
   ]
  },
  {
   "cell_type": "code",
   "execution_count": null,
   "metadata": {},
   "outputs": [],
   "source": [
    "import threshold_selection"
   ]
  },
  {
   "cell_type": "code",
   "execution_count": null,
   "metadata": {},
   "outputs": [],
   "source": [
    "from confusion_matrix import calc_confusion_matrix_for_probas_and_threshold"
   ]
  },
  {
   "cell_type": "markdown",
   "metadata": {},
   "source": [
    "# Provided function for computing mean binary cross entropy\n",
    "\n",
    "Here, we provide a *completed* function you can use as is for Problem 1 report.\n",
    "\n",
    "Later in Problem 2, you'll write your own version of this function without using sklearn.\n",
    "\n",
    "Remember, we want the *base-2* cross entropy. For *one* pair of true label $y$ and predicted proba $p$, we have\n",
    "\n",
    "$$\n",
    "BCE(y, p) = - y \\log_2 p - (1-y) \\log_2(1-p)\n",
    "$$\n",
    "\n",
    "The function below computes the mean of this BCE across a whole dataset of size N"
   ]
  },
  {
   "cell_type": "code",
   "execution_count": null,
   "metadata": {},
   "outputs": [],
   "source": [
    "def calc_mean_BCE_from_probas(ytrue_N, yproba1_N):\n",
    "    ''' Compute mean binary cross entropy\n",
    "    \n",
    "    Args\n",
    "    ----\n",
    "    ytrue_N : 1D array, size (n_examples,) = (N,)\n",
    "    yproba1_N : 1D array, size (n_examples,) = (N,)\n",
    "    \n",
    "    Returns\n",
    "    -------\n",
    "    mean_bce : float\n",
    "        mean binary cross entropy across all N examples\n",
    "    '''\n",
    "    return sklearn.metrics.log_loss(ytrue_N, yproba1_N, labels=[0,1]) / np.log(2.0)"
   ]
  },
  {
   "cell_type": "code",
   "execution_count": null,
   "metadata": {},
   "outputs": [
    {
     "data": {
      "text/plain": [
       "6.643856189774724"
      ]
     },
     "execution_count": null,
     "metadata": {},
     "output_type": "execute_result"
    }
   ],
   "source": [
    "# Check that BCE loss is high if true class is 1 but probability is low\n",
    "calc_mean_BCE_from_probas([1.], [0.01])"
   ]
  },
  {
   "cell_type": "code",
   "execution_count": null,
   "metadata": {},
   "outputs": [
    {
     "data": {
      "text/plain": [
       "1.0"
      ]
     },
     "execution_count": null,
     "metadata": {},
     "output_type": "execute_result"
    }
   ],
   "source": [
    "# Check that BCE loss is exactly 1 if true class is 1 but probability is 0.5\n",
    "calc_mean_BCE_from_probas([1.], [0.5])"
   ]
  },
  {
   "cell_type": "code",
   "execution_count": null,
   "metadata": {},
   "outputs": [
    {
     "data": {
      "text/plain": [
       "0.01449956969511509"
      ]
     },
     "execution_count": null,
     "metadata": {},
     "output_type": "execute_result"
    }
   ],
   "source": [
    "# Check that BCE loss is close to zero if true class is 1 but probability is 0.99\n",
    "calc_mean_BCE_from_probas([1.], [0.99])"
   ]
  },
  {
   "cell_type": "markdown",
   "metadata": {},
   "source": [
    "# Load x and y array data for problem 1"
   ]
  },
  {
   "cell_type": "code",
   "execution_count": null,
   "metadata": {},
   "outputs": [],
   "source": [
    "def load_x(csv_path, feat_names=['age_0to1', 'famhistory', 'marker_0to1']):\n",
    "    df = pd.read_csv(csv_path, usecols=feat_names)\n",
    "    return np.asarray(df.values, dtype=np.float64)"
   ]
  },
  {
   "cell_type": "code",
   "execution_count": null,
   "metadata": {},
   "outputs": [],
   "source": [
    "def load_y(csv_path, col_name='cancer'):\n",
    "    df = pd.read_csv(csv_path, usecols=[col_name])\n",
    "    return np.asarray(df.values, dtype=np.float64).flatten()"
   ]
  },
  {
   "cell_type": "code",
   "execution_count": null,
   "metadata": {},
   "outputs": [],
   "source": [
    "# Make sure you have downloaded data and your directory is correct\n",
    "DATA_DIR = os.path.join('data_cancer') "
   ]
  },
  {
   "cell_type": "code",
   "execution_count": null,
   "metadata": {},
   "outputs": [
    {
     "name": "stdout",
     "output_type": "stream",
     "text": [
      "Loaded x_train : shape (390, 3)\n",
      "Loaded x_valid : shape (180, 3)\n",
      "Loaded x_test  : shape (180, 3)\n"
     ]
    }
   ],
   "source": [
    "# Load 3 feature version of x arrays\n",
    "x_tr_M3 = load_x(os.path.join(DATA_DIR, 'x_train.csv'))\n",
    "x_va_N3 = load_x(os.path.join(DATA_DIR, 'x_valid.csv'))\n",
    "x_te_N3 = load_x(os.path.join(DATA_DIR, 'x_test.csv'))\n",
    "\n",
    "for label, x in [('train', x_tr_M3), ('valid', x_va_N3), ('test', x_te_N3)]:\n",
    "    print(\"Loaded x_%-5s : shape %s\" % (label, x.shape))"
   ]
  },
  {
   "cell_type": "code",
   "execution_count": null,
   "metadata": {},
   "outputs": [],
   "source": [
    "# Load 2 feature version of x arrays\n",
    "x_tr_M2 = x_tr_M3[:, :2].copy()\n",
    "x_va_N2 = x_va_N3[:, :2].copy()\n",
    "x_te_N2 = x_te_N3[:, :2].copy()"
   ]
  },
  {
   "cell_type": "code",
   "execution_count": null,
   "metadata": {},
   "outputs": [],
   "source": [
    "N_shape = x_va_N3.shape\n",
    "M_shape = x_tr_M3.shape\n",
    "\n",
    "N = N_shape[0]\n",
    "M = M_shape[0]"
   ]
  },
  {
   "cell_type": "markdown",
   "metadata": {},
   "source": [
    "**TODO** : Load outcomes **y** arrays"
   ]
  },
  {
   "cell_type": "code",
   "execution_count": null,
   "metadata": {},
   "outputs": [],
   "source": [
    "# Load outcomes y arrays\n",
    "y_tr_M = load_y(os.path.join(DATA_DIR, 'y_train.csv'))\n",
    "assert y_tr_M.ndim == 1\n",
    "assert y_tr_M.shape[0] == x_tr_M2.shape[0]\n",
    "\n",
    "# Hint: Use the load_y helper, as we did for load_x above\n",
    "y_va_N = np.hstack([np.zeros(N//2), np.ones(N//2)]) # TODO fixme\n",
    "y_te_N = np.hstack([np.zeros(N//2), np.ones(N//2)]) # TODO fixme"
   ]
  },
  {
   "cell_type": "markdown",
   "metadata": {},
   "source": [
    "## Step 1A: Data Summarization"
   ]
  },
  {
   "cell_type": "markdown",
   "metadata": {},
   "source": [
    "### Table 1 for Report\n",
    "\n",
    "Provide a table summarizing some basic properties of the provided training set, validation set, and test set:\n",
    "\n",
    "* Row 1 'total count': how many total examples are in each set?\n",
    "* Row 2 'positive label count': how many examples have a positive label (means cancer)?\n",
    "* Row 3 'fraction positive' : what fraction (between 0 and 1) of the examples have cancer?\n",
    "\n",
    "Your result should be 3 by 3 containing 'total count', 'positive label count' and 'fraction positive' of training, valid and test sets. An example of the output looks like this:\n",
    "\n",
    "|                               | train  |valid    |test|\n",
    "|:-|-:|-:|-:|\n",
    "|num. total examples            |560.000  |120.000  |120.000\n",
    "|num. positive examples         |56.000   |12.000   |12.000\n",
    "|fraction of positive examples  |0.100    |0.100    |0.100\n",
    "\n",
    "All results should **keep 3 digits**. We set a pandas display option to ensure that below."
   ]
  },
  {
   "cell_type": "markdown",
   "metadata": {},
   "source": [
    "**TODO**: make a pandas dataframe with the correct data properties"
   ]
  },
  {
   "cell_type": "code",
   "execution_count": null,
   "metadata": {},
   "outputs": [],
   "source": [
    "table1_df = pd.DataFrame(dict(train=[111,222,333], valid=[444,555,666], test=[777,888,999])) # TODO fixme\n",
    "table1_df.index = ['num. total examples', 'num. positive examples', 'fraction of positive examples']"
   ]
  },
  {
   "cell_type": "markdown",
   "metadata": {},
   "source": [
    "**TODO:** Use pandas' built in printing to make a nice table (using a fixed-width font)"
   ]
  },
  {
   "cell_type": "code",
   "execution_count": null,
   "metadata": {},
   "outputs": [
    {
     "name": "stdout",
     "output_type": "stream",
     "text": [
      "                               train  valid  test\n",
      "num. total examples              111    444   777\n",
      "num. positive examples           222    555   888\n",
      "fraction of positive examples    333    666   999\n"
     ]
    }
   ],
   "source": [
    "pd.set_option('display.precision', 3) # Keep this, so 3 digits after decimal are printed\n",
    "print(table1_df)"
   ]
  },
  {
   "cell_type": "markdown",
   "metadata": {},
   "source": [
    "##  Step 1B: The predict-0-always baseline"
   ]
  },
  {
   "cell_type": "markdown",
   "metadata": {},
   "source": [
    "**TODO**: predict zero for all test data points"
   ]
  },
  {
   "cell_type": "code",
   "execution_count": null,
   "metadata": {},
   "outputs": [
    {
     "name": "stdout",
     "output_type": "stream",
     "text": [
      "[0 1 1 0 1 1 1 1 1 1 1 0 0 1 0 0 0 0 0 1 0 1 1 0 0 1 1 1 1 0 1 0 1 0 1 1 0\n",
      " 1 1 0 0 1 0 1 1 1 1 1 0 1 0 1 1 1 1 0 1 0 0 1 1 0 1 0 1 0 0 0 0 0 1 1 0 0\n",
      " 0 1 1 0 1 0 0 1 0 1 1 1 1 1 1 0 1 1 0 0 1 0 0 1 1 0 1 0 0 1 0 0 0 1 1 0 1\n",
      " 0 0 0 0 0 1 0 1 0 1 1 1 1 1 0 1 1 1 1 0 1 1 0 0 1 0 0 0 0 1 1 0 0 1 0 1 1\n",
      " 1 1 0 0 0 1 0 1 1 1 0 1 0 0 1 0 1 1 0 0 1 0 1 0 1 0 1 0 1 0 0 0]\n"
     ]
    }
   ],
   "source": [
    "baseline_yhat_te_N = np.random.RandomState(0).randint(low=0, high=2, size=N) # TODO fixme\n",
    "print(baseline_yhat_te_N)"
   ]
  },
  {
   "cell_type": "code",
   "execution_count": null,
   "metadata": {},
   "outputs": [
    {
     "name": "stdout",
     "output_type": "stream",
     "text": [
      "[0. 0. 0. 0. 0. 0. 0. 0. 0. 0. 0. 0. 0. 0. 0. 0. 0. 0. 0. 0. 0. 0. 0. 0.\n",
      " 0. 0. 0. 0. 0. 0. 0. 0. 0. 0. 0. 0. 0. 0. 0. 0. 0. 0. 0. 0. 0. 0. 0. 0.\n",
      " 0. 0. 0. 0. 0. 0. 0. 0. 0. 0. 0. 0. 0. 0. 0. 0. 0. 0. 0. 0. 0. 0. 0. 0.\n",
      " 0. 0. 0. 0. 0. 0. 0. 0. 0. 0. 0. 0. 0. 0. 0. 0. 0. 0. 1. 1. 1. 1. 1. 1.\n",
      " 1. 1. 1. 1. 1. 1. 1. 1. 1. 1. 1. 1. 1. 1. 1. 1. 1. 1. 1. 1. 1. 1. 1. 1.\n",
      " 1. 1. 1. 1. 1. 1. 1. 1. 1. 1. 1. 1. 1. 1. 1. 1. 1. 1. 1. 1. 1. 1. 1. 1.\n",
      " 1. 1. 1. 1. 1. 1. 1. 1. 1. 1. 1. 1. 1. 1. 1. 1. 1. 1. 1. 1. 1. 1. 1. 1.\n",
      " 1. 1. 1. 1. 1. 1. 1. 1. 1. 1. 1. 1.]\n"
     ]
    }
   ],
   "source": [
    "print(y_te_N)"
   ]
  },
  {
   "cell_type": "code",
   "execution_count": null,
   "metadata": {},
   "outputs": [
    {
     "name": "stdout",
     "output_type": "stream",
     "text": [
      "Predicted   0   1\n",
      "True             \n",
      "0          39  51\n",
      "1          46  44\n"
     ]
    }
   ],
   "source": [
    "print(calc_confusion_matrix_for_probas_and_threshold(y_te_N, baseline_yhat_te_N, 0.5))"
   ]
  },
  {
   "cell_type": "markdown",
   "metadata": {},
   "source": [
    "**TODO** Use the printed information from the previous code cell to calculate the accuracy of baseline. \n",
    "\n",
    "Keep 3 digits in your PDF report for short Answer 1a."
   ]
  },
  {
   "cell_type": "code",
   "execution_count": null,
   "metadata": {},
   "outputs": [
    {
     "name": "stdout",
     "output_type": "stream",
     "text": [
      "Baseline has accuracy:  -1.0\n"
     ]
    }
   ],
   "source": [
    "baseline_acc = -1.0 # TODO: calculate the accuracy of baseline.\n",
    "print(\"Baseline has accuracy: \", baseline_acc)"
   ]
  },
  {
   "cell_type": "markdown",
   "metadata": {},
   "source": [
    "### Short Answer 1a in Report\n",
    "\n",
    "*See instructions on website*"
   ]
  },
  {
   "cell_type": "code",
   "execution_count": null,
   "metadata": {},
   "outputs": [],
   "source": []
  },
  {
   "cell_type": "markdown",
   "metadata": {},
   "source": [
    "## Step 1C : Logistic Regression with F=2 dataset"
   ]
  },
  {
   "cell_type": "markdown",
   "metadata": {},
   "source": [
    "**TODO**: Complete each line marked TODO fixme in the codeblock below"
   ]
  },
  {
   "cell_type": "code",
   "execution_count": null,
   "metadata": {},
   "outputs": [],
   "source": [
    "C_grid = np.logspace(-4, 4, 17)\n",
    "\n",
    "# We will fit a separate logistic regression for each C value in the C_grid\n",
    "# And store that classifier's performance metrics (lower is better)\n",
    "# So we can compare and select the best C in the future steps.\n",
    "\n",
    "modelF2_list = list()\n",
    "\n",
    "# Allocate lists for storing BCE metrics\n",
    "tr_bce_list = list()\n",
    "va_bce_list = list()\n",
    "te_bce_list = list()\n",
    "\n",
    "# Allocate lists for storing ERROR RATE metrics\n",
    "tr_err_list = list()\n",
    "va_err_list = list()\n",
    "te_err_list = list()\n",
    "\n",
    "# Remember, we justified BCE for training our classifier by saying\n",
    "# it provides an *upper bound* on the error rate.\n",
    "\n",
    "# Loop over C values, fit models, record metrics\n",
    "for C in C_grid:\n",
    "    # TODO: Follow the instruction in HW2 and train the model lr_F2\n",
    "    # Part a: Initialize a LogisticRegression classifier with desired C value\n",
    "    # Part b: train the model with the 2-feature dataset\n",
    "    lrF2 = sklearn.linear_model.LogisticRegression() # TODO fixme\n",
    "    lrF2.fit(x_tr_M2[::5], y_tr_M[::5]) # TODO fixme\n",
    "    \n",
    "    modelF2_list.append(lrF2)\n",
    "    \n",
    "    yproba1_tr_M = lrF2.predict_proba(x_tr_M2)[:,1] # The probability of class 1 on the training set\n",
    "    yproba1_va_N = lrF2.predict_proba(x_va_N2)[:,1] # The probability of class 1 on the validation set\n",
    "    \n",
    "    # Compute error rate aka zero-one loss\n",
    "    my_tr_err = sklearn.metrics.zero_one_loss(y_tr_M, yproba1_tr_M >= 0.5)\n",
    "    my_va_err = sklearn.metrics.zero_one_loss(y_va_N, yproba1_va_N >= 0.5)\n",
    "    tr_err_list.append(my_tr_err)\n",
    "    va_err_list.append(my_va_err)\n",
    "    \n",
    "    # TODO: use calc_mean_BCE_from_probas function defined above.\n",
    "    my_tr_bce = my_tr_err + 0.1 # TODO fixme, calc BCE on train set\n",
    "    my_va_bce = my_va_err + 0.15 # TODO fixme, calc BCE on valid set\n",
    "    # Save bce for future selection\n",
    "    tr_bce_list.append(my_tr_bce) \n",
    "    va_bce_list.append(my_va_bce) "
   ]
  },
  {
   "cell_type": "markdown",
   "metadata": {},
   "source": [
    "Make plot to visualize mean BCE and ERR over C values (internal debugging only)"
   ]
  },
  {
   "cell_type": "code",
   "execution_count": null,
   "metadata": {},
   "outputs": [
    {
     "data": {
      "image/png": "[encoded data removed]",
      "text/plain": [
       "<Figure size 800x550 with 1 Axes>"
      ]
     },
     "metadata": {},
     "output_type": "display_data"
    }
   ],
   "source": [
    "plt.plot(np.log10(C_grid), tr_bce_list, 'bs-', label='train BCE')\n",
    "plt.plot(np.log10(C_grid), va_bce_list, 'rs-', label='valid BCE')\n",
    "\n",
    "plt.plot(np.log10(C_grid), tr_err_list, 'b:', label='train err')\n",
    "plt.plot(np.log10(C_grid), va_err_list, 'r:', label='valid err')\n",
    "\n",
    "plt.ylabel('error')\n",
    "plt.xlabel(\"$\\log_{10} C$\");\n",
    "plt.legend(bbox_to_anchor=(1.33, 0.5)) # make legend outside plot\n",
    "plt.ylim([0, 0.7]);"
   ]
  },
  {
   "cell_type": "code",
   "execution_count": null,
   "metadata": {},
   "outputs": [
    {
     "name": "stdout",
     "output_type": "stream",
     "text": [
      "Searched over these C values:\n",
      "[1.00000000e-04 3.16227766e-04 1.00000000e-03 3.16227766e-03\n",
      " 1.00000000e-02 3.16227766e-02 1.00000000e-01 3.16227766e-01\n",
      " 1.00000000e+00 3.16227766e+00 1.00000000e+01 3.16227766e+01\n",
      " 1.00000000e+02 3.16227766e+02 1.00000000e+03 3.16227766e+03\n",
      " 1.00000000e+04]\n",
      "Recorded these BCE loss values on val set\n",
      "[0.65, 0.65, 0.65, 0.65, 0.65, 0.65, 0.65, 0.65, 0.65, 0.65, 0.65, 0.65, 0.65, 0.65, 0.65, 0.65, 0.65]\n"
     ]
    }
   ],
   "source": [
    "print(\"Searched over these C values:\")\n",
    "print(C_grid)\n",
    "\n",
    "print(\"Recorded these BCE loss values on val set\")\n",
    "print(va_bce_list)"
   ]
  },
  {
   "cell_type": "markdown",
   "metadata": {},
   "source": [
    "**TODO** Find the best C with the samllest cross entropy loss on the validation set."
   ]
  },
  {
   "cell_type": "code",
   "execution_count": null,
   "metadata": {},
   "outputs": [
    {
     "name": "stdout",
     "output_type": "stream",
     "text": [
      "Best C value for F2 model:\n",
      "0.0001\n"
     ]
    }
   ],
   "source": [
    "# Find the C that corresponds to the smallest BCE loss on the validation set\n",
    "best_C__lrF2 = C_grid[0] # TODO fixme\n",
    "\n",
    "print(\"Best C value for F2 model:\")\n",
    "print(best_C__lrF2)"
   ]
  },
  {
   "cell_type": "markdown",
   "metadata": {},
   "source": [
    "**TODO** Load the model that was rated 'best'"
   ]
  },
  {
   "cell_type": "code",
   "execution_count": null,
   "metadata": {},
   "outputs": [
    {
     "name": "stdout",
     "output_type": "stream",
     "text": [
      "Best model has coefficient values:\n",
      "[[ 0.73913481 -0.19112318]]\n"
     ]
    }
   ],
   "source": [
    "best_lrF2 = modelF2_list[0] # TODO fixme\n",
    "\n",
    "print(\"Best model has coefficient values:\")\n",
    "print(best_lrF2.coef_)"
   ]
  },
  {
   "cell_type": "code",
   "execution_count": null,
   "metadata": {},
   "outputs": [],
   "source": [
    "# Output the prediction of your best model for 2-feature data on the training, valid, and test set. \n",
    "# Return the probability of predicting positive class\n",
    "# We'll use them for the ROC curve later.\n",
    "\n",
    "bestlrF2_yproba1_tr_M = best_lrF2.predict_proba(x_tr_M2)[:,1]\n",
    "bestlrF2_yproba1_va_N = best_lrF2.predict_proba(x_va_N2)[:,1]\n",
    "bestlrF2_yproba1_te_N = best_lrF2.predict_proba(x_te_N2)[:,1]\n",
    "\n",
    "# Remember: predict_proba returns a 2D array with TWO columns\n",
    "# we use [:, 1] to grab the second column, corresponding to the positive class\n",
    "# the first column is the probability of the negative class (no cancer)"
   ]
  },
  {
   "cell_type": "markdown",
   "metadata": {},
   "source": [
    "## Step 1D : Logistic Regression with F=3 dataset\n",
    "**TODO**: \n",
    "* Repeat Step 1C for 3-feature dataset to find the best C. Use same C_grid and same way to pick best on val set.\n",
    "* Copy that block of code from above here, and modify accordingly..."
   ]
  },
  {
   "cell_type": "code",
   "execution_count": null,
   "metadata": {},
   "outputs": [],
   "source": [
    "# TODO codeblock that fits model for each C and measures error"
   ]
  },
  {
   "cell_type": "code",
   "execution_count": null,
   "metadata": {},
   "outputs": [],
   "source": [
    "# TODO codeblock that visualizes error as function of C (for your own debugging purposes)"
   ]
  },
  {
   "cell_type": "code",
   "execution_count": null,
   "metadata": {},
   "outputs": [],
   "source": [
    "# TODO codeblock that finds the best C value and corresponding best LR model"
   ]
  },
  {
   "cell_type": "markdown",
   "metadata": {},
   "source": [
    "**TODO**:\n",
    "* Using your best F=3 model, predict the probability of predicting positive class (y=1) on training, validation and test set."
   ]
  },
  {
   "cell_type": "code",
   "execution_count": null,
   "metadata": {},
   "outputs": [],
   "source": [
    "# TODO: Return the posibility of predicting true on training, validation and test set.\n",
    "# Hint: follow what's done in the last code block of Step 1C.\n",
    "\n",
    "prng = np.random.RandomState(101)\n",
    "bestlrF3_yproba1_tr_M = prng.rand(M) # TODO fixme, we're just filling with random values for now\n",
    "bestlrF3_yproba1_va_N = prng.rand(N) # TODO fixme\n",
    "bestlrF3_yproba1_te_N = prng.rand(N) # TODO fixme"
   ]
  },
  {
   "cell_type": "markdown",
   "metadata": {},
   "source": [
    "## Step 1E : Comparing Models using ROC Analysis\n",
    "\n",
    "\n",
    "**TODO**:\n",
    "\n",
    "1) Review the sklearn documentation for using [sklearn.metrics.roc_curve](https://scikit-learn.org/stable/modules/generated/sklearn.metrics.roc_curve.html)\n",
    "\n",
    "2) Skim the sklearn User Guide on [ROC curves](https://scikit-learn.org/stable/modules/model_evaluation.html#roc-metrics)\n",
    "\n",
    "3) Follow instructions below to produce a ROC figure for your report"
   ]
  },
  {
   "cell_type": "code",
   "execution_count": null,
   "metadata": {},
   "outputs": [
    {
     "data": {
      "image/png": "[encoded data removed]",
      "text/plain": [
       "<Figure size 500x500 with 1 Axes>"
      ]
     },
     "metadata": {},
     "output_type": "display_data"
    }
   ],
   "source": [
    "# ROC curve comparing F=2 and F=3 logistic regression (LR) models\n",
    "\n",
    "# Create square aspect-ratio figure\n",
    "plt.subplots(nrows=1, ncols=1, figsize=(5,5));\n",
    "\n",
    "# TODO Use provided true labels and predictions for validation set\n",
    "# Call `sklearn.metrics.roc_curve'. See links above to User Guide and docs.\n",
    "# This will produce arrays of fpr (false pos rate) and tpr (true pos rate) values,\n",
    "# That you can use to make the ROC plot, replacing the dummy fpr/tpr values below.\n",
    "\n",
    "# Read HW2 instructions carefully to verify correct plot style (line type, line color, etc.)\n",
    "\n",
    "fpr, tpr = np.linspace(1., 0., 51), 1-np.linspace(0., 1., 51) - 0.05; # TODO fixme\n",
    "plt.plot(fpr, tpr, 'r-', label='LR F=3 on valid');\n",
    "\n",
    "fpr, tpr = np.linspace(1., 0., 51), 1-np.linspace(0., 1., 51) - 0.08; # TODO fixme\n",
    "plt.plot(fpr, tpr, 'b-', label='LR F=2 on valid');\n",
    "\n",
    "plt.title(\"ROC on Validation Set\");\n",
    "plt.xlabel('FPR = 1 - TNR');\n",
    "plt.ylabel('TPR');\n",
    "plt.legend(loc='lower right');\n",
    "B = 0.01\n",
    "plt.xlim([0 - B, 1 + B]);\n",
    "plt.ylim([0 - B, 1 + B]);"
   ]
  },
  {
   "cell_type": "markdown",
   "metadata": {},
   "source": [
    "### Figure 1 for Report: Comparing models using ROC analysis\n",
    "\n",
    "**TODO**: *Include the above figure in your report*."
   ]
  },
  {
   "cell_type": "markdown",
   "metadata": {},
   "source": [
    "### Short Answer 1b for Report\n",
    "\n",
    "*See instructions on website*"
   ]
  },
  {
   "cell_type": "code",
   "execution_count": null,
   "metadata": {},
   "outputs": [],
   "source": []
  },
  {
   "cell_type": "markdown",
   "metadata": {},
   "source": [
    "## Selecting a decision threshold\n",
    "\n",
    "Remember that to turn predicted probabilities into binary decisions, we need a threshold.\n",
    "\n",
    "Steps 1F and 1G describe two ways to pick such a threshold.\n",
    "\n",
    "**Best Practice throughout**: Pick threshold on validation set. Measure ultimate performance on test set."
   ]
  },
  {
   "cell_type": "markdown",
   "metadata": {},
   "source": [
    "## Step 1F: Use F=3 LR with threshold = 0.5"
   ]
  },
  {
   "cell_type": "code",
   "execution_count": null,
   "metadata": {},
   "outputs": [
    {
     "name": "stdout",
     "output_type": "stream",
     "text": [
      "Fig. 2 column 1:\n",
      "\n",
      "threshold = 0.500\n",
      "\n",
      "None\n",
      "\n",
      "TPR = 0.000\n",
      "TNR = 0.000\n"
     ]
    }
   ],
   "source": [
    "default_thr = 0.5\n",
    "\n",
    "# TODO calculate Confusion Matrix for this threshold\n",
    "# ___ = calc_confusion_matrix_for_probas_and_threshold(___)\n",
    "# See previous usage in Step 1B above\n",
    "cmat_df = None\n",
    "\n",
    "# TODO compute True Positive Rate (TPR)\n",
    "tpr = 0.0 # TODO fixme\n",
    "\n",
    "# TODO compute True Negative Rate (TNR)\n",
    "tnr = 0.0 # TODO fixme\n",
    "\n",
    "print(f\"Fig. 2 column 1:\\n\\nthreshold = {default_thr :.3f}\\n\")\n",
    "print(cmat_df)\n",
    "print(f\"\\nTPR = {tpr :.3f}\\nTNR = {tnr :.3f}\")"
   ]
  },
  {
   "cell_type": "markdown",
   "metadata": {},
   "source": [
    "## Step 1G : Use F=3 LR with threshold to maximize TNR s.t. TPR >= 0.95"
   ]
  },
  {
   "cell_type": "code",
   "execution_count": null,
   "metadata": {},
   "outputs": [],
   "source": [
    "# Compute performance metrics across possible thresholds from 0.0 to 1.0\n",
    "# Here, we're looking at VALIDATION set\n",
    "\n",
    "thresh_grid, va_perf_grid = threshold_selection.compute_perf_metrics_across_thresholds(\n",
    "    y_va_N, bestlrF3_yproba1_va_N)"
   ]
  },
  {
   "cell_type": "code",
   "execution_count": null,
   "metadata": {},
   "outputs": [
    {
     "name": "stdout",
     "output_type": "stream",
     "text": [
      "thr 0.0\n",
      "ACC nan\n",
      "TPR nan\n",
      "TNR nan\n",
      "\n",
      "thr 0.0004419948498006754\n",
      "ACC nan\n",
      "TPR nan\n",
      "TNR nan\n",
      "\n",
      "thr 0.001044057550240951\n",
      "ACC nan\n",
      "TPR nan\n",
      "TNR nan\n",
      "\n",
      "...\n"
     ]
    }
   ],
   "source": [
    "# Inspect what the above returned...\n",
    "\n",
    "# thresh_grid is a big 1D array of possible thresholds\n",
    "# va_perf_grid is a dict, where each key gives a 1D array same size as thresh_grid\n",
    "\n",
    "# See only the first 3 entries\n",
    "for gg in range(3):\n",
    "    print('thr', thresh_grid[gg])\n",
    "    print('ACC', va_perf_grid['acc'][gg])\n",
    "    print('TPR', va_perf_grid['tpr'][gg])\n",
    "    print('TNR', va_perf_grid['tnr'][gg])\n",
    "    print()\n",
    "print(\"...\")"
   ]
  },
  {
   "cell_type": "markdown",
   "metadata": {},
   "source": [
    "**TODO**: Write code to find the threshold that maximizes TNR while TPR >= 0.95"
   ]
  },
  {
   "cell_type": "code",
   "execution_count": null,
   "metadata": {},
   "outputs": [],
   "source": [
    "# Find threshold that makes TNR as large as possible, while satisfying TPR >= 0.95\n",
    "\n",
    "# Make arrays for threshold, TPR, and TNR\n",
    "# Make smaller arrays such that all entries satisfy the TPR constraint\n",
    "# Search for the largest TNR value, and keep corresponding threshold\n",
    "\n",
    "best_thr = 0.5 # TODO fixme"
   ]
  },
  {
   "cell_type": "code",
   "execution_count": null,
   "metadata": {},
   "outputs": [
    {
     "name": "stdout",
     "output_type": "stream",
     "text": [
      "Fig. 2 column 2:\n",
      "\n",
      "threshold = 0.500\n",
      "\n",
      "None\n",
      "\n",
      "TPR = -1.000\n",
      "TNR = -1.000\n"
     ]
    }
   ],
   "source": [
    "# TODO calculate Confusion Matrix for this threshold\n",
    "# ___ = calc_confusion_matrix_for_probas_and_threshold(___)\n",
    "# See previous usage in Step 1B above\n",
    "cmat_df = None\n",
    "\n",
    "# TODO compute True Positive Rate (TPR)\n",
    "tpr = -1.0 # TODO fixme\n",
    "\n",
    "# TODO compute True Negative Rate (TNR)\n",
    "tnr = -1.0 # TODO fixme\n",
    "\n",
    "print(f\"Fig. 2 column 2:\\n\\nthreshold = {default_thr :.3f}\\n\")\n",
    "print(cmat_df)\n",
    "print(f\"\\nTPR = {tpr :.3f}\\nTNR = {tnr :.3f}\")"
   ]
  },
  {
   "cell_type": "markdown",
   "metadata": {},
   "source": [
    "### Table 2 for Report\n",
    "\n",
    "See instructions on website on how to combine material from Step 1F and Step 1G\n",
    "to produce a table.\n",
    "\n",
    "\n",
    "Each column should correspond to one of the following models:\n",
    "\n",
    "* F=3 Logistic Regression using threshold 0.5 from 1F\n",
    "* F=3 Logistic Regression using selected threshold from 1G\n",
    "\n",
    "Each row should report the performance of the model on the test set\n",
    "\n",
    "* Top: Threshold\n",
    "* Middle: confusion matrix on the test set\n",
    "* Bottom: TPR and TNR on the test set\n",
    "\n",
    "\n"
   ]
  },
  {
   "cell_type": "markdown",
   "metadata": {},
   "source": [
    "### Short Answer 1c and 1d for Report\n",
    "\n",
    "*See instructions on website*"
   ]
  },
  {
   "cell_type": "code",
   "execution_count": null,
   "metadata": {},
   "outputs": [],
   "source": []
  }
 ],
 "metadata": {
  "kernelspec": {
   "display_name": "python3",
   "language": "python",
   "name": "python3"
  }
 },
 "nbformat": 4,
 "nbformat_minor": 2
}
