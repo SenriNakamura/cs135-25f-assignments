{
 "cells": [
  {
   "cell_type": "markdown",
   "metadata": {},
   "source": [
    "# HW2 for CS 135 in Fall 2025\n",
    "\n",
    "Instructions:\n",
    "<https://www.cs.tufts.edu/cs/135/2025s/hw2.html>\n",
    "\n",
    "Instructions on webpage should be considered *authoritative*. Any instructions here in this notebook are provided to be extra helpful, but when in doubt follow the webpage instructions.\n",
    "\n",
    "This notebook is specifically for the report related to Problem 1.\n",
    "\n",
    "# Problem 1: Binary Classifier for Cancer-Risk Screening "
   ]
  },
  {
   "cell_type": "markdown",
   "metadata": {},
   "source": [
    "### Prereq\n",
    "\n",
    "* You will need to finish **Code Task** for **Problem 1** before working on this notebook. \n",
    "\n",
    "### Import Libraries"
   ]
  },
  {
   "cell_type": "code",
   "execution_count": 101,
   "metadata": {},
   "outputs": [],
   "source": [
    "import os\n",
    "import numpy as np\n",
    "import pandas as pd\n",
    "\n",
    "import sklearn.linear_model\n",
    "import sklearn.metrics"
   ]
  },
  {
   "cell_type": "code",
   "execution_count": 102,
   "metadata": {},
   "outputs": [
    {
     "name": "stdout",
     "output_type": "stream",
     "text": [
      "The autoreload extension is already loaded. To reload it, use:\n",
      "  %reload_ext autoreload\n"
     ]
    }
   ],
   "source": [
    "# Plotting libraries\n",
    "import matplotlib\n",
    "import matplotlib.pyplot as plt\n",
    "\n",
    "plt.style.use('seaborn-v0_8') # pretty matplotlib plots\n",
    "\n",
    "import seaborn as sns\n",
    "sns.set('notebook', style='whitegrid', font_scale=1.25)\n",
    "\n",
    "# Autoload changes in other files.\n",
    "# Avoids restarting the Jupyter kernel each time you make a change to the imported code.\n",
    "%load_ext autoreload\n",
    "%autoreload 2"
   ]
  },
  {
   "cell_type": "markdown",
   "metadata": {},
   "source": [
    "# Import student-edited code \n",
    "\n",
    "Remember, you should have *completed* the Code Tasks for Problem 1 first."
   ]
  },
  {
   "cell_type": "code",
   "execution_count": 103,
   "metadata": {},
   "outputs": [],
   "source": [
    "if not os.path.exists('binary_metrics.py'):\n",
    "    raise ImportError(\"CANNOT FIND binary_metrics.py. Make sure you run this notebook in same directory as your .py files.\")"
   ]
  },
  {
   "cell_type": "code",
   "execution_count": 104,
   "metadata": {},
   "outputs": [],
   "source": [
    "from binary_metrics import (\n",
    "    calc_ACC, calc_TPR, calc_TNR)"
   ]
  },
  {
   "cell_type": "markdown",
   "metadata": {},
   "source": [
    "# Import helper code (will work as provided, no edits needed)"
   ]
  },
  {
   "cell_type": "code",
   "execution_count": 105,
   "metadata": {},
   "outputs": [],
   "source": [
    "import threshold_selection"
   ]
  },
  {
   "cell_type": "code",
   "execution_count": 106,
   "metadata": {},
   "outputs": [],
   "source": [
    "from confusion_matrix import calc_confusion_matrix_for_probas_and_threshold"
   ]
  },
  {
   "cell_type": "markdown",
   "metadata": {},
   "source": [
    "# Provided function for computing mean binary cross entropy\n",
    "\n",
    "Here, we provide a *completed* function you can use as is for Problem 1 report.\n",
    "\n",
    "Later in Problem 2, you'll write your own version of this function without using sklearn.\n",
    "\n",
    "Remember, we want the *base-2* cross entropy. For *one* pair of true label $y$ and predicted proba $p$, we have\n",
    "\n",
    "$$\n",
    "BCE(y, p) = - y \\log_2 p - (1-y) \\log_2(1-p)\n",
    "$$\n",
    "\n",
    "The function below computes the mean of this BCE across a whole dataset of size N"
   ]
  },
  {
   "cell_type": "code",
   "execution_count": 107,
   "metadata": {},
   "outputs": [],
   "source": [
    "def calc_mean_BCE_from_probas(ytrue_N, yproba1_N):\n",
    "    ''' Compute mean binary cross entropy\n",
    "    \n",
    "    Args\n",
    "    ----\n",
    "    ytrue_N : 1D array, size (n_examples,) = (N,)\n",
    "    yproba1_N : 1D array, size (n_examples,) = (N,)\n",
    "    \n",
    "    Returns\n",
    "    -------\n",
    "    mean_bce : float\n",
    "        mean binary cross entropy across all N examples\n",
    "    '''\n",
    "    return sklearn.metrics.log_loss(ytrue_N, yproba1_N, labels=[0,1]) / np.log(2.0)"
   ]
  },
  {
   "cell_type": "code",
   "execution_count": 108,
   "metadata": {},
   "outputs": [
    {
     "data": {
      "text/plain": [
       "6.643856189774724"
      ]
     },
     "execution_count": 108,
     "metadata": {},
     "output_type": "execute_result"
    }
   ],
   "source": [
    "# Check that BCE loss is high if true class is 1 but probability is low\n",
    "calc_mean_BCE_from_probas([1.], [0.01])"
   ]
  },
  {
   "cell_type": "code",
   "execution_count": 109,
   "metadata": {},
   "outputs": [
    {
     "data": {
      "text/plain": [
       "1.0"
      ]
     },
     "execution_count": 109,
     "metadata": {},
     "output_type": "execute_result"
    }
   ],
   "source": [
    "# Check that BCE loss is exactly 1 if true class is 1 but probability is 0.5\n",
    "calc_mean_BCE_from_probas([1.], [0.5])"
   ]
  },
  {
   "cell_type": "code",
   "execution_count": 110,
   "metadata": {},
   "outputs": [
    {
     "data": {
      "text/plain": [
       "0.01449956969511509"
      ]
     },
     "execution_count": 110,
     "metadata": {},
     "output_type": "execute_result"
    }
   ],
   "source": [
    "# Check that BCE loss is close to zero if true class is 1 but probability is 0.99\n",
    "calc_mean_BCE_from_probas([1.], [0.99])"
   ]
  },
  {
   "cell_type": "markdown",
   "metadata": {},
   "source": [
    "# Load x and y array data for problem 1"
   ]
  },
  {
   "cell_type": "code",
   "execution_count": 111,
   "metadata": {},
   "outputs": [],
   "source": [
    "def load_x(csv_path, feat_names=['age_0to1', 'famhistory', 'marker_0to1']):\n",
    "    df = pd.read_csv(csv_path, usecols=feat_names)\n",
    "    return np.asarray(df.values, dtype=np.float64)"
   ]
  },
  {
   "cell_type": "code",
   "execution_count": 112,
   "metadata": {},
   "outputs": [],
   "source": [
    "def load_y(csv_path, col_name='cancer'):\n",
    "    df = pd.read_csv(csv_path, usecols=[col_name])\n",
    "    return np.asarray(df.values, dtype=np.float64).flatten()"
   ]
  },
  {
   "cell_type": "code",
   "execution_count": 113,
   "metadata": {},
   "outputs": [],
   "source": [
    "# Make sure you have downloaded data and your directory is correct\n",
    "DATA_DIR = os.path.join('data_cancer') "
   ]
  },
  {
   "cell_type": "code",
   "execution_count": 114,
   "metadata": {},
   "outputs": [
    {
     "name": "stdout",
     "output_type": "stream",
     "text": [
      "Loaded x_train : shape (390, 3)\n",
      "Loaded x_valid : shape (180, 3)\n",
      "Loaded x_test  : shape (180, 3)\n"
     ]
    }
   ],
   "source": [
    "# Load 3 feature version of x arrays\n",
    "x_tr_M3 = load_x(os.path.join(DATA_DIR, 'x_train.csv'))\n",
    "x_va_N3 = load_x(os.path.join(DATA_DIR, 'x_valid.csv'))\n",
    "x_te_N3 = load_x(os.path.join(DATA_DIR, 'x_test.csv'))\n",
    "\n",
    "for label, x in [('train', x_tr_M3), ('valid', x_va_N3), ('test', x_te_N3)]:\n",
    "    print(\"Loaded x_%-5s : shape %s\" % (label, x.shape))"
   ]
  },
  {
   "cell_type": "code",
   "execution_count": 115,
   "metadata": {},
   "outputs": [],
   "source": [
    "# Load 2 feature version of x arrays\n",
    "x_tr_M2 = x_tr_M3[:, :2].copy()\n",
    "x_va_N2 = x_va_N3[:, :2].copy()\n",
    "x_te_N2 = x_te_N3[:, :2].copy()"
   ]
  },
  {
   "cell_type": "code",
   "execution_count": 116,
   "metadata": {},
   "outputs": [],
   "source": [
    "N_shape = x_va_N3.shape\n",
    "M_shape = x_tr_M3.shape\n",
    "\n",
    "N = N_shape[0]\n",
    "M = M_shape[0]"
   ]
  },
  {
   "cell_type": "markdown",
   "metadata": {},
   "source": [
    "**TODO** : Load outcomes **y** arrays"
   ]
  },
  {
   "cell_type": "code",
   "execution_count": 117,
   "metadata": {},
   "outputs": [
    {
     "name": "stdout",
     "output_type": "stream",
     "text": [
      "Loaded y_train : shape (390,)\n",
      "Loaded y_valid : shape (180,)\n",
      "Loaded y_test  : shape (180,)\n"
     ]
    }
   ],
   "source": [
    "# Load outcomes y arrays\n",
    "y_tr_M = load_y(os.path.join(DATA_DIR, 'y_train.csv'))\n",
    "assert y_tr_M.ndim == 1\n",
    "assert y_tr_M.shape[0] == x_tr_M2.shape[0]\n",
    "\n",
    "y_va_N = load_y(os.path.join(DATA_DIR, 'y_valid.csv'))\n",
    "assert y_va_N.ndim == 1\n",
    "assert y_va_N.shape[0] == x_va_N2.shape[0]\n",
    "y_te_N = load_y(os.path.join(DATA_DIR, 'y_test.csv'))\n",
    "assert y_te_N.ndim == 1\n",
    "assert y_te_N.shape[0] == x_te_N2.shape[0]\n",
    "\n",
    "for label, y in [('train', y_tr_M), ('valid', y_va_N), ('test', y_te_N)]:\n",
    "    print(\"Loaded y_%-5s : shape %s\" % (label, y.shape))"
   ]
  },
  {
   "cell_type": "markdown",
   "metadata": {},
   "source": [
    "## Step 1A: Data Summarization"
   ]
  },
  {
   "cell_type": "markdown",
   "metadata": {},
   "source": [
    "### Table 1 for Report\n",
    "\n",
    "Provide a table summarizing some basic properties of the provided training set, validation set, and test set:\n",
    "\n",
    "* Row 1 'total count': how many total examples are in each set?\n",
    "* Row 2 'positive label count': how many examples have a positive label (means cancer)?\n",
    "* Row 3 'fraction positive' : what fraction (between 0 and 1) of the examples have cancer?\n",
    "\n",
    "Your result should be 3 by 3 containing 'total count', 'positive label count' and 'fraction positive' of training, valid and test sets. An example of the output looks like this:\n",
    "\n",
    "|                               | train  |valid    |test|\n",
    "|:-|-:|-:|-:|\n",
    "|num. total examples            |560.000  |120.000  |120.000\n",
    "|num. positive examples         |56.000   |12.000   |12.000\n",
    "|fraction of positive examples  |0.100    |0.100    |0.100\n",
    "\n",
    "All results should **keep 3 digits**. We set a pandas display option to ensure that below."
   ]
  },
  {
   "cell_type": "markdown",
   "metadata": {},
   "source": [
    "**TODO**: make a pandas dataframe with the correct data properties"
   ]
  },
  {
   "cell_type": "code",
   "execution_count": 118,
   "metadata": {},
   "outputs": [],
   "source": [
    "table1_df = pd.DataFrame(dict(\n",
    "    train=[len(y_tr_M), np.sum(y_tr_M), np.mean(y_tr_M)],\n",
    "    valid=[len(y_va_N), np.sum(y_va_N), np.mean(y_va_N)],\n",
    "    test =[len(y_te_N), np.sum(y_te_N), np.mean(y_te_N)]\n",
    "))\n",
    "\n",
    "table1_df.index = [\n",
    "    'num. total examples',\n",
    "    'num. positive examples',\n",
    "    'fraction of positive examples'\n",
    "]\n"
   ]
  },
  {
   "cell_type": "markdown",
   "metadata": {},
   "source": [
    "**TODO:** Use pandas' built in printing to make a nice table (using a fixed-width font)"
   ]
  },
  {
   "cell_type": "code",
   "execution_count": 119,
   "metadata": {},
   "outputs": [
    {
     "name": "stdout",
     "output_type": "stream",
     "text": [
      "                                 train    valid     test\n",
      "num. total examples            390.000  180.000  180.000\n",
      "num. positive examples          55.000   25.000   25.000\n",
      "fraction of positive examples    0.141    0.139    0.139\n"
     ]
    }
   ],
   "source": [
    "pd.set_option('display.precision', 3) # Keep this, so 3 digits after decimal are printed\n",
    "print(table1_df)"
   ]
  },
  {
   "cell_type": "markdown",
   "metadata": {},
   "source": [
    "##  Step 1B: The predict-0-always baseline"
   ]
  },
  {
   "cell_type": "markdown",
   "metadata": {},
   "source": [
    "**TODO**: predict zero for all test data points"
   ]
  },
  {
   "cell_type": "code",
   "execution_count": 120,
   "metadata": {},
   "outputs": [
    {
     "name": "stdout",
     "output_type": "stream",
     "text": [
      "[0. 0. 0. 0. 0. 0. 0. 0. 0. 0. 0. 0. 0. 0. 0. 0. 0. 0. 0. 0. 0. 0. 0. 0.\n",
      " 0. 0. 0. 0. 0. 0. 0. 0. 0. 0. 0. 0. 0. 0. 0. 0. 0. 0. 0. 0. 0. 0. 0. 0.\n",
      " 0. 0. 0. 0. 0. 0. 0. 0. 0. 0. 0. 0. 0. 0. 0. 0. 0. 0. 0. 0. 0. 0. 0. 0.\n",
      " 0. 0. 0. 0. 0. 0. 0. 0. 0. 0. 0. 0. 0. 0. 0. 0. 0. 0. 0. 0. 0. 0. 0. 0.\n",
      " 0. 0. 0. 0. 0. 0. 0. 0. 0. 0. 0. 0. 0. 0. 0. 0. 0. 0. 0. 0. 0. 0. 0. 0.\n",
      " 0. 0. 0. 0. 0. 0. 0. 0. 0. 0. 0. 0. 0. 0. 0. 0. 0. 0. 0. 0. 0. 0. 0. 0.\n",
      " 0. 0. 0. 0. 0. 0. 0. 0. 0. 0. 0. 0. 0. 0. 0. 0. 0. 0. 0. 0. 0. 0. 0. 0.\n",
      " 0. 0. 0. 0. 0. 0. 0. 0. 0. 0. 0. 0.]\n"
     ]
    }
   ],
   "source": [
    "baseline_yhat_te_N = np.zeros(len(y_te_N))\n",
    "print(baseline_yhat_te_N)"
   ]
  },
  {
   "cell_type": "code",
   "execution_count": 121,
   "metadata": {},
   "outputs": [
    {
     "name": "stdout",
     "output_type": "stream",
     "text": [
      "[0. 0. 0. 0. 0. 1. 0. 0. 0. 0. 0. 0. 0. 0. 0. 0. 0. 1. 0. 0. 0. 0. 0. 0.\n",
      " 0. 0. 0. 1. 0. 0. 1. 0. 0. 0. 0. 0. 0. 0. 1. 1. 0. 0. 0. 0. 0. 0. 0. 0.\n",
      " 0. 0. 0. 0. 0. 0. 0. 0. 0. 0. 0. 0. 0. 0. 0. 0. 0. 0. 0. 0. 0. 0. 0. 0.\n",
      " 1. 0. 0. 0. 0. 0. 0. 0. 0. 0. 0. 1. 0. 0. 0. 0. 0. 1. 0. 0. 0. 0. 0. 0.\n",
      " 0. 0. 0. 1. 0. 0. 1. 0. 0. 0. 1. 0. 1. 0. 0. 0. 0. 0. 0. 1. 0. 1. 0. 0.\n",
      " 0. 1. 0. 0. 0. 0. 1. 0. 1. 0. 0. 0. 0. 0. 0. 0. 0. 0. 0. 0. 0. 0. 0. 0.\n",
      " 0. 0. 0. 0. 1. 0. 0. 1. 0. 0. 0. 0. 1. 0. 0. 0. 0. 1. 0. 0. 0. 1. 1. 1.\n",
      " 0. 0. 0. 0. 0. 0. 0. 0. 0. 0. 0. 0.]\n"
     ]
    }
   ],
   "source": [
    "print(y_te_N)"
   ]
  },
  {
   "cell_type": "code",
   "execution_count": 122,
   "metadata": {},
   "outputs": [
    {
     "name": "stdout",
     "output_type": "stream",
     "text": [
      "Predicted    0  1\n",
      "True             \n",
      "0          155  0\n",
      "1           25  0\n"
     ]
    }
   ],
   "source": [
    "print(calc_confusion_matrix_for_probas_and_threshold(y_te_N, baseline_yhat_te_N, 0.5))"
   ]
  },
  {
   "cell_type": "markdown",
   "metadata": {},
   "source": [
    "**TODO** Use the printed information from the previous code cell to calculate the accuracy of baseline. \n",
    "\n",
    "Keep 3 digits in your PDF report for short Answer 1a."
   ]
  },
  {
   "cell_type": "code",
   "execution_count": 123,
   "metadata": {},
   "outputs": [
    {
     "name": "stdout",
     "output_type": "stream",
     "text": [
      "Baseline has accuracy: 0.861\n"
     ]
    }
   ],
   "source": [
    "baseline_acc = calc_ACC(y_te_N, baseline_yhat_te_N)\n",
    "print(f\"Baseline has accuracy: {baseline_acc:.3f}\")"
   ]
  },
  {
   "cell_type": "markdown",
   "metadata": {},
   "source": [
    "### Short Answer 1a in Report\n",
    "\n",
    "*See instructions on website*"
   ]
  },
  {
   "cell_type": "code",
   "execution_count": null,
   "metadata": {},
   "outputs": [],
   "source": []
  },
  {
   "cell_type": "markdown",
   "metadata": {},
   "source": [
    "## Step 1C : Logistic Regression with F=2 dataset"
   ]
  },
  {
   "cell_type": "markdown",
   "metadata": {},
   "source": [
    "**TODO**: Complete each line marked TODO fixme in the codeblock below"
   ]
  },
  {
   "cell_type": "code",
   "execution_count": 124,
   "metadata": {},
   "outputs": [],
   "source": [
    "C_grid = np.logspace(-4, 4, 17)\n",
    "\n",
    "# We will fit a separate logistic regression for each C value in the C_grid\n",
    "# And store that classifier's performance metrics (lower is better)\n",
    "# So we can compare and select the best C in the future steps.\n",
    "\n",
    "modelF2_list = list()\n",
    "\n",
    "# Allocate lists for storing BCE metrics\n",
    "tr_bce_list = list()\n",
    "va_bce_list = list()\n",
    "te_bce_list = list()\n",
    "\n",
    "# Allocate lists for storing ERROR RATE metrics\n",
    "tr_err_list = list()\n",
    "va_err_list = list()\n",
    "te_err_list = list()\n",
    "\n",
    "# Remember, we justified BCE for training our classifier by saying\n",
    "# it provides an *upper bound* on the error rate.\n",
    "\n",
    "# Loop over C values, fit models, record metrics\n",
    "for C in C_grid:\n",
    "    # Part a: Initialize a LogisticRegression classifier with desired C value\n",
    "    # Part b: train the model with the 2-feature dataset\n",
    "    lrF2 = sklearn.linear_model.LogisticRegression(\n",
    "        solver='lbfgs',\n",
    "        penalty='l2',\n",
    "        C=C,\n",
    "        max_iter=1000\n",
    "    ) \n",
    "    lrF2.fit(x_tr_M2, y_tr_M) \n",
    "    \n",
    "    modelF2_list.append(lrF2)\n",
    "    \n",
    "    yproba1_tr_M = lrF2.predict_proba(x_tr_M2)[:,1] # The probability of class 1 on the training set\n",
    "    yproba1_va_N = lrF2.predict_proba(x_va_N2)[:,1] # The probability of class 1 on the validation set\n",
    "\n",
    "    # Compute error rate aka zero-one loss\n",
    "    my_tr_err = sklearn.metrics.zero_one_loss(y_tr_M, yproba1_tr_M >= 0.5)\n",
    "    my_va_err = sklearn.metrics.zero_one_loss(y_va_N, yproba1_va_N >= 0.5)\n",
    "    \n",
    "    tr_err_list.append(my_tr_err)\n",
    "    va_err_list.append(my_va_err)\n",
    "   \n",
    "    \n",
    "    # use calc_mean_BCE_from_probas function defined above.\n",
    "    my_tr_bce = calc_mean_BCE_from_probas(y_tr_M, yproba1_tr_M)\n",
    "    my_va_bce = calc_mean_BCE_from_probas(y_va_N, yproba1_va_N)\n",
    "    # Save bce for future selection\n",
    "    tr_bce_list.append(my_tr_bce) \n",
    "    va_bce_list.append(my_va_bce) "
   ]
  },
  {
   "cell_type": "markdown",
   "metadata": {},
   "source": [
    "Make plot to visualize mean BCE and ERR over C values (internal debugging only)"
   ]
  },
  {
   "cell_type": "code",
   "execution_count": 125,
   "metadata": {},
   "outputs": [
    {
     "data": {
      "image/png": "[encoded data removed]",
      "text/plain": [
       "<Figure size 800x550 with 1 Axes>"
      ]
     },
     "metadata": {},
     "output_type": "display_data"
    }
   ],
   "source": [
    "plt.plot(np.log10(C_grid), tr_bce_list, 'bs-', label='train BCE')\n",
    "plt.plot(np.log10(C_grid), va_bce_list, 'rs-', label='valid BCE')\n",
    "\n",
    "plt.plot(np.log10(C_grid), tr_err_list, 'b:', label='train err')\n",
    "plt.plot(np.log10(C_grid), va_err_list, 'r:', label='valid err')\n",
    "\n",
    "plt.ylabel('error')\n",
    "plt.xlabel(\"$\\log_{10} C$\");\n",
    "plt.legend(bbox_to_anchor=(1.33, 0.5)) # make legend outside plot\n",
    "plt.ylim([0, 0.7]);"
   ]
  },
  {
   "cell_type": "code",
   "execution_count": 126,
   "metadata": {},
   "outputs": [
    {
     "name": "stdout",
     "output_type": "stream",
     "text": [
      "Searched over these C values:\n",
      "[1.00000000e-04 3.16227766e-04 1.00000000e-03 3.16227766e-03\n",
      " 1.00000000e-02 3.16227766e-02 1.00000000e-01 3.16227766e-01\n",
      " 1.00000000e+00 3.16227766e+00 1.00000000e+01 3.16227766e+01\n",
      " 1.00000000e+02 3.16227766e+02 1.00000000e+03 3.16227766e+03\n",
      " 1.00000000e+04]\n",
      "Recorded these BCE loss values on val set\n",
      "[0.5813426351401082, 0.5813254320139232, 0.5812733119651239, 0.581111409940575, 0.5806176186139597, 0.5792270655407633, 0.5757056797162877, 0.5682723190563558, 0.5521275371476653, 0.5245937808237384, 0.4989979983514493, 0.48735526391061673, 0.48422067427118143, 0.4835408718221729, 0.48336529559307057, 0.4833156604263511, 0.4833090534387383]\n"
     ]
    }
   ],
   "source": [
    "print(\"Searched over these C values:\")\n",
    "print(C_grid)\n",
    "\n",
    "print(\"Recorded these BCE loss values on val set\")\n",
    "print(va_bce_list)"
   ]
  },
  {
   "cell_type": "markdown",
   "metadata": {},
   "source": [
    "**TODO** Find the best C with the samllest cross entropy loss on the validation set."
   ]
  },
  {
   "cell_type": "code",
   "execution_count": 127,
   "metadata": {},
   "outputs": [
    {
     "name": "stdout",
     "output_type": "stream",
     "text": [
      "Best C value for F2 model:\n",
      "10000.0\n",
      "0.4833090534387383\n",
      "16\n",
      "[1.00000000e-04 3.16227766e-04 1.00000000e-03 3.16227766e-03\n",
      " 1.00000000e-02 3.16227766e-02 1.00000000e-01 3.16227766e-01\n",
      " 1.00000000e+00 3.16227766e+00 1.00000000e+01 3.16227766e+01\n",
      " 1.00000000e+02 3.16227766e+02 1.00000000e+03 3.16227766e+03\n",
      " 1.00000000e+04]\n"
     ]
    }
   ],
   "source": [
    "# Find the C that corresponds to the smallest BCE loss on the validation set\n",
    "best_C__lrF2 = C_grid[np.argmin(va_bce_list)]\n",
    "\n",
    "print(\"Best C value for F2 model:\")\n",
    "print(best_C__lrF2)\n",
    "\n",
    "#for internal validation purpose. not used in the report\n",
    "print(np.min(va_bce_list))\n",
    "print(np.argmin(va_bce_list))\n",
    "print(C_grid)"
   ]
  },
  {
   "cell_type": "markdown",
   "metadata": {},
   "source": [
    "**TODO** Load the model that was rated 'best'"
   ]
  },
  {
   "cell_type": "code",
   "execution_count": 128,
   "metadata": {},
   "outputs": [
    {
     "name": "stdout",
     "output_type": "stream",
     "text": [
      "Best model has coefficient values:\n",
      "[[17.30194606  0.72291375]]\n"
     ]
    }
   ],
   "source": [
    "best_lrF2 = modelF2_list[np.argmin(va_bce_list)]\n",
    "\n",
    "print(\"Best model has coefficient values:\")\n",
    "print(best_lrF2.coef_)"
   ]
  },
  {
   "cell_type": "code",
   "execution_count": 129,
   "metadata": {},
   "outputs": [],
   "source": [
    "# Output the prediction of your best model for 2-feature data on the training, valid, and test set. \n",
    "# Return the probability of predicting positive class\n",
    "# We'll use them for the ROC curve later.\n",
    "\n",
    "bestlrF2_yproba1_tr_M = best_lrF2.predict_proba(x_tr_M2)[:,1]\n",
    "bestlrF2_yproba1_va_N = best_lrF2.predict_proba(x_va_N2)[:,1]\n",
    "bestlrF2_yproba1_te_N = best_lrF2.predict_proba(x_te_N2)[:,1]\n",
    "\n",
    "# Remember: predict_proba returns a 2D array with TWO columns\n",
    "# we use [:, 1] to grab the second column, corresponding to the positive class\n",
    "# the first column is the probability of the negative class (no cancer)"
   ]
  },
  {
   "cell_type": "markdown",
   "metadata": {},
   "source": [
    "## Step 1D : Logistic Regression with F=3 dataset\n",
    "**TODO**: \n",
    "* Repeat Step 1C for 3-feature dataset to find the best C. Use same C_grid and same way to pick best on val set.\n",
    "* Copy that block of code from above here, and modify accordingly..."
   ]
  },
  {
   "cell_type": "code",
   "execution_count": 130,
   "metadata": {},
   "outputs": [],
   "source": [
    "# Reset containers\n",
    "modelF3_list = []\n",
    "tr_err_list_F3, va_err_list_F3 = [], []\n",
    "tr_bce_list_F3, va_bce_list_F3 = [], []\n",
    "\n",
    "# Fit LR for each C and measure metrics\n",
    "for C in C_grid:\n",
    "    lrF3 = sklearn.linear_model.LogisticRegression(\n",
    "        solver='lbfgs', penalty='l2', C=C, max_iter=1000\n",
    "    )\n",
    "    lrF3.fit(x_tr_M3, y_tr_M)\n",
    "    modelF3_list.append(lrF3)\n",
    "\n",
    "    # Prob of positive class\n",
    "    p_tr = lrF3.predict_proba(x_tr_M3)[:, 1]\n",
    "    p_va = lrF3.predict_proba(x_va_N3)[:, 1]\n",
    "\n",
    "    # Error rate (0/1 loss) at 0.5 threshold\n",
    "    tr_err_list_F3.append(sklearn.metrics.zero_one_loss(y_tr_M, p_tr >= 0.5))\n",
    "    va_err_list_F3.append(sklearn.metrics.zero_one_loss(y_va_N, p_va >= 0.5))\n",
    "\n",
    "    # Binary cross-entropy (mean log loss)\n",
    "    tr_bce_list_F3.append(calc_mean_BCE_from_probas(y_tr_M, p_tr))\n",
    "    va_bce_list_F3.append(calc_mean_BCE_from_probas(y_va_N, p_va))"
   ]
  },
  {
   "cell_type": "code",
   "execution_count": 131,
   "metadata": {},
   "outputs": [
    {
     "data": {
      "image/png": "[encoded data removed]",
      "text/plain": [
       "<Figure size 800x550 with 1 Axes>"
      ]
     },
     "metadata": {},
     "output_type": "display_data"
    }
   ],
   "source": [
    "# Plot mean BCE and ERR over C values (for debugging)\n",
    "plt.plot(np.log10(C_grid), tr_bce_list_F3, 'bs-', label='train BCE')\n",
    "plt.plot(np.log10(C_grid), va_bce_list_F3, 'rs-', label='valid BCE')\n",
    "\n",
    "plt.plot(np.log10(C_grid), tr_err_list_F3, 'b:', label='train err')\n",
    "plt.plot(np.log10(C_grid), va_err_list_F3, 'r:', label='valid err')\n",
    "\n",
    "plt.ylabel('error')\n",
    "plt.xlabel(r'$\\log_{10} C$')\n",
    "plt.legend(bbox_to_anchor=(1.33, 0.5))  # move legend outside plot\n",
    "plt.ylim([0, 0.7])\n",
    "plt.show()\n"
   ]
  },
  {
   "cell_type": "code",
   "execution_count": 132,
   "metadata": {},
   "outputs": [
    {
     "name": "stdout",
     "output_type": "stream",
     "text": [
      "Best C (F=3): 10000.0\n",
      "Best LR coef (F=3): [[20.00604772  0.7806252   7.17378657]]\n"
     ]
    }
   ],
   "source": [
    "# Find best C (min validation BCE) and grab corresponding model\n",
    "best_idx_F3 = int(np.argmin(va_bce_list_F3))\n",
    "best_C_lrF3  = C_grid[best_idx_F3]\n",
    "best_lrF3    = modelF3_list[best_idx_F3]\n",
    "\n",
    "print(\"Best C (F=3):\", best_C_lrF3)\n",
    "print(\"Best LR coef (F=3):\", best_lrF3.coef_)"
   ]
  },
  {
   "cell_type": "markdown",
   "metadata": {},
   "source": [
    "**TODO**:\n",
    "* Using your best F=3 model, predict the probability of predicting positive class (y=1) on training, validation and test set."
   ]
  },
  {
   "cell_type": "code",
   "execution_count": 133,
   "metadata": {},
   "outputs": [],
   "source": [
    "# Return the probability of predicting positive class (y=1)\n",
    "# on training, validation, and test sets using the best F=3 model.\n",
    "\n",
    "bestlrF3_yproba1_tr_M = best_lrF3.predict_proba(x_tr_M3)[:, 1]\n",
    "bestlrF3_yproba1_va_N = best_lrF3.predict_proba(x_va_N3)[:, 1]\n",
    "bestlrF3_yproba1_te_N = best_lrF3.predict_proba(x_te_N3)[:, 1]"
   ]
  },
  {
   "cell_type": "markdown",
   "metadata": {},
   "source": [
    "## Step 1E : Comparing Models using ROC Analysis\n",
    "\n",
    "\n",
    "**TODO**:\n",
    "\n",
    "1) Review the sklearn documentation for using [sklearn.metrics.roc_curve](https://scikit-learn.org/stable/modules/generated/sklearn.metrics.roc_curve.html)\n",
    "\n",
    "2) Skim the sklearn User Guide on [ROC curves](https://scikit-learn.org/stable/modules/model_evaluation.html#roc-metrics)\n",
    "\n",
    "3) Follow instructions below to produce a ROC figure for your report"
   ]
  },
  {
   "cell_type": "code",
   "execution_count": 134,
   "metadata": {},
   "outputs": [
    {
     "data": {
      "image/png": "[encoded data removed]",
      "text/plain": [
       "<Figure size 500x500 with 1 Axes>"
      ]
     },
     "metadata": {},
     "output_type": "display_data"
    }
   ],
   "source": [
    "from sklearn.metrics import roc_curve, auc\n",
    "plt.subplots(nrows=1, ncols=1, figsize=(5,5))\n",
    "\n",
    "# Compute ROC points (valid set)\n",
    "fpr2, tpr2, _ = roc_curve(y_va_N, bestlrF2_yproba1_va_N)\n",
    "fpr3, tpr3, _ = roc_curve(y_va_N, bestlrF3_yproba1_va_N)\n",
    "\n",
    "# (optional) AUCs for legend\n",
    "auc2 = auc(fpr2, tpr2)\n",
    "auc3 = auc(fpr3, tpr3)\n",
    "\n",
    "# Plot ROC curves\n",
    "plt.plot(fpr3, tpr3, 'r-',  label=f'LR F=3 on valid (AUC={auc3:.3f})')\n",
    "plt.plot(fpr2, tpr2, 'b--', label=f'LR F=2 on valid (AUC={auc2:.3f})')\n",
    "\n",
    "# Cosmetics to match instructions\n",
    "plt.title(\"ROC on Validation Set\")\n",
    "plt.xlabel('FPR'); plt.ylabel('TPR')\n",
    "plt.legend(loc='lower right')\n",
    "B = 0.01\n",
    "plt.xlim([0 - B, 1 + B]); plt.ylim([0 - B, 1 + B])\n",
    "plt.axis('square')\n",
    "plt.show()\n"
   ]
  },
  {
   "cell_type": "markdown",
   "metadata": {},
   "source": [
    "### Figure 1 for Report: Comparing models using ROC analysis\n",
    "\n",
    "**TODO**: *Include the above figure in your report*."
   ]
  },
  {
   "cell_type": "markdown",
   "metadata": {},
   "source": [
    "### Short Answer 1b for Report\n",
    "\n",
    "*See instructions on website*"
   ]
  },
  {
   "cell_type": "code",
   "execution_count": null,
   "metadata": {},
   "outputs": [],
   "source": []
  },
  {
   "cell_type": "markdown",
   "metadata": {},
   "source": [
    "## Selecting a decision threshold\n",
    "\n",
    "Remember that to turn predicted probabilities into binary decisions, we need a threshold.\n",
    "\n",
    "Steps 1F and 1G describe two ways to pick such a threshold.\n",
    "\n",
    "**Best Practice throughout**: Pick threshold on validation set. Measure ultimate performance on test set."
   ]
  },
  {
   "cell_type": "markdown",
   "metadata": {},
   "source": [
    "## Step 1F: Use F=3 LR with threshold = 0.5"
   ]
  },
  {
   "cell_type": "code",
   "execution_count": 135,
   "metadata": {},
   "outputs": [
    {
     "name": "stdout",
     "output_type": "stream",
     "text": [
      "threshold = 0.500\n",
      "\n",
      "Predicted    0  1\n",
      "True             \n",
      "0          152  3\n",
      "1           21  4\n",
      "\n",
      "TPR = 0.160\n",
      "TNR = 0.981\n",
      "Index([0, 1], dtype='int64', name='True') Index([0, 1], dtype='int64', name='Predicted')\n"
     ]
    }
   ],
   "source": [
    "default_thr = 0.5\n",
    "\n",
    "cmat_df = calc_confusion_matrix_for_probas_and_threshold(\n",
    "    y_va_N, bestlrF3_yproba1_va_N, default_thr\n",
    ")\n",
    "\n",
    "# Pull counts from the 2x2 table\n",
    "TP = int(cmat_df.loc[1, 1])\n",
    "TN = int(cmat_df.loc[0, 0])\n",
    "FP = int(cmat_df.loc[0, 1])\n",
    "FN = int(cmat_df.loc[1, 0])\n",
    "\n",
    "# Rates (add tiny epsilon to avoid /0)\n",
    "eps = 1e-12\n",
    "tpr = TP / (TP + FN + eps)   # recall / sensitivity\n",
    "tnr = TN / (TN + FP + eps)   # specificity\n",
    "\n",
    "print(f\"threshold = {default_thr:.3f}\\n\")\n",
    "print(cmat_df)\n",
    "print(f\"\\nTPR = {tpr:.3f}\\nTNR = {tnr:.3f}\")\n",
    "\n",
    "# testing purpose\n",
    "print(cmat_df.index, cmat_df.columns)"
   ]
  },
  {
   "cell_type": "markdown",
   "metadata": {},
   "source": [
    "## Step 1G : Use F=3 LR with threshold to maximize TNR s.t. TPR >= 0.95"
   ]
  },
  {
   "cell_type": "code",
   "execution_count": 136,
   "metadata": {},
   "outputs": [],
   "source": [
    "# Compute performance metrics across possible thresholds from 0.0 to 1.0\n",
    "# Here, we're looking at VALIDATION set\n",
    "\n",
    "thresh_grid, va_perf_grid = threshold_selection.compute_perf_metrics_across_thresholds(\n",
    "    y_va_N, bestlrF3_yproba1_va_N)"
   ]
  },
  {
   "cell_type": "code",
   "execution_count": 137,
   "metadata": {},
   "outputs": [
    {
     "name": "stdout",
     "output_type": "stream",
     "text": [
      "thr 0.0\n",
      "ACC 0.13888888888881173\n",
      "TPR 0.9999999999960001\n",
      "TNR 0.0\n",
      "\n",
      "thr 0.000624513619941812\n",
      "ACC 0.13888888888881173\n",
      "TPR 0.9999999999960001\n",
      "TNR 0.0\n",
      "\n",
      "thr 0.0012832922108336603\n",
      "ACC 0.14444444444436422\n",
      "TPR 0.9999999999960001\n",
      "TNR 0.006451612903221645\n",
      "\n",
      "...\n"
     ]
    }
   ],
   "source": [
    "# Inspect what the above returned...\n",
    "\n",
    "# thresh_grid is a big 1D array of possible thresholds\n",
    "# va_perf_grid is a dict, where each key gives a 1D array same size as thresh_grid\n",
    "\n",
    "# See only the first 3 entries\n",
    "for gg in range(3):\n",
    "    print('thr', thresh_grid[gg])\n",
    "    print('ACC', va_perf_grid['acc'][gg])\n",
    "    print('TPR', va_perf_grid['tpr'][gg])\n",
    "    print('TNR', va_perf_grid['tnr'][gg])\n",
    "    print()\n",
    "print(\"...\")"
   ]
  },
  {
   "cell_type": "markdown",
   "metadata": {},
   "source": [
    "**TODO**: Write code to find the threshold that maximizes TNR while TPR >= 0.95"
   ]
  },
  {
   "cell_type": "code",
   "execution_count": 138,
   "metadata": {},
   "outputs": [
    {
     "name": "stdout",
     "output_type": "stream",
     "text": [
      "Chosen threshold (TPR≥0.95 constraint): 0.075\n"
     ]
    }
   ],
   "source": [
    "# Find threshold that maximizes TNR while meeting TPR >= 0.95 (on VALID set)\n",
    "tpr_arr = va_perf_grid['tpr']\n",
    "tnr_arr = va_perf_grid['tnr']\n",
    "\n",
    "feasible = tpr_arr >= 0.95\n",
    "if feasible.any():\n",
    "    # among feasible points, pick the one with largest TNR\n",
    "    best_idx = np.argmax(np.where(feasible, tnr_arr, -np.inf))\n",
    "else:\n",
    "    # fallback: no threshold hits 0.95 TPR; pick the one with largest TPR\n",
    "    best_idx = np.argmax(tpr_arr)\n",
    "\n",
    "best_thr = float(thresh_grid[best_idx])\n",
    "print(f\"Chosen threshold (TPR≥0.95 constraint): {best_thr:.3f}\")"
   ]
  },
  {
   "cell_type": "code",
   "execution_count": 139,
   "metadata": {},
   "outputs": [
    {
     "name": "stdout",
     "output_type": "stream",
     "text": [
      "\n",
      "Fig. 2 column 2:\n",
      "\n",
      "threshold = 0.075\n",
      "\n",
      "Predicted    0   1\n",
      "True              \n",
      "0          103  52\n",
      "1            1  24\n",
      "\n",
      "TPR = 0.960\n",
      "TNR = 0.665\n"
     ]
    }
   ],
   "source": [
    "cmat_df = calc_confusion_matrix_for_probas_and_threshold(\n",
    "    y_va_N, bestlrF3_yproba1_va_N, best_thr\n",
    ")\n",
    "\n",
    "TP = int(cmat_df.loc[1, 1]); TN = int(cmat_df.loc[0, 0])\n",
    "FP = int(cmat_df.loc[0, 1]); FN = int(cmat_df.loc[1, 0])\n",
    "eps = 1e-12\n",
    "tpr = TP / (TP + FN + eps)\n",
    "tnr = TN / (TN + FP + eps)\n",
    "\n",
    "print(f\"\\nFig. 2 column 2:\\n\\nthreshold = {best_thr:.3f}\\n\")\n",
    "print(cmat_df)\n",
    "print(f\"\\nTPR = {tpr:.3f}\\nTNR = {tnr:.3f}\")"
   ]
  },
  {
   "cell_type": "markdown",
   "metadata": {},
   "source": [
    "### Table 2 for Report\n",
    "\n",
    "See instructions on website on how to combine material from Step 1F and Step 1G\n",
    "to produce a table.\n",
    "\n",
    "\n",
    "Each column should correspond to one of the following models:\n",
    "\n",
    "* F=3 Logistic Regression using threshold 0.5 from 1F\n",
    "* F=3 Logistic Regression using selected threshold from 1G\n",
    "\n",
    "Each row should report the performance of the model on the test set\n",
    "\n",
    "* Top: Threshold\n",
    "* Middle: confusion matrix on the test set\n",
    "* Bottom: TPR and TNR on the test set\n",
    "\n",
    "\n"
   ]
  },
  {
   "cell_type": "markdown",
   "metadata": {},
   "source": [
    "### Short Answer 1c and 1d for Report\n",
    "\n",
    "*See instructions on website*"
   ]
  },
  {
   "cell_type": "code",
   "execution_count": null,
   "metadata": {},
   "outputs": [],
   "source": []
  }
 ],
 "metadata": {
  "kernelspec": {
   "display_name": "cs135_25f_env",
   "language": "python",
   "name": "python3"
  },
  "language_info": {
   "codemirror_mode": {
    "name": "ipython",
    "version": 3
   },
   "file_extension": ".py",
   "mimetype": "text/x-python",
   "name": "python",
   "nbconvert_exporter": "python",
   "pygments_lexer": "ipython3",
   "version": "3.11.13"
  }
 },
 "nbformat": 4,
 "nbformat_minor": 2
}
